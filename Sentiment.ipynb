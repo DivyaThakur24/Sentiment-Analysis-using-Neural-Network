{
 "cells": [
  {
   "cell_type": "markdown",
   "metadata": {},
   "source": [
    "# Sentiment analysis on Twitter using word2vec and keras"
   ]
  },
  {
   "cell_type": "code",
   "execution_count": 3,
   "metadata": {},
   "outputs": [],
   "source": [
    "#import libraries\n",
    "import sys\n",
    "import pandas as pd # provide data manipulation tools.\n",
    "import numpy as np # high dimensional vector computing library.\n",
    "from string import punctuation\n",
    "from random import shuffle\n",
    "from tqdm import tqdm    #Shows progress bar\n",
    "tqdm.pandas(desc=\"progress-bar\")\n",
    "\n",
    "from nltk.tokenize import TweetTokenizer # a tweet tokenizer from nltk.\n",
    "tokenizer = TweetTokenizer()"
   ]
  },
  {
   "cell_type": "markdown",
   "metadata": {},
   "source": [
    "## Preprocess Data"
   ]
  },
  {
   "cell_type": "code",
   "execution_count": 4,
   "metadata": {},
   "outputs": [
    {
     "name": "stdout",
     "output_type": "stream",
     "text": [
      "dataset loaded with shape (1231862, 2)\n"
     ]
    },
    {
     "data": {
      "text/html": [
       "<div>\n",
       "<style scoped>\n",
       "    .dataframe tbody tr th:only-of-type {\n",
       "        vertical-align: middle;\n",
       "    }\n",
       "\n",
       "    .dataframe tbody tr th {\n",
       "        vertical-align: top;\n",
       "    }\n",
       "\n",
       "    .dataframe thead th {\n",
       "        text-align: right;\n",
       "    }\n",
       "</style>\n",
       "<table border=\"1\" class=\"dataframe\">\n",
       "  <thead>\n",
       "    <tr style=\"text-align: right;\">\n",
       "      <th></th>\n",
       "      <th>Sentiment</th>\n",
       "      <th>SentimentText</th>\n",
       "    </tr>\n",
       "  </thead>\n",
       "  <tbody>\n",
       "    <tr>\n",
       "      <th>0</th>\n",
       "      <td>0</td>\n",
       "      <td>@switchfoot http://twitpic.com/2y1zl - Awww\\n0\"</td>\n",
       "    </tr>\n",
       "    <tr>\n",
       "      <th>1</th>\n",
       "      <td>0</td>\n",
       "      <td>@Kenichan I dived many times for the ball. Man...</td>\n",
       "    </tr>\n",
       "    <tr>\n",
       "      <th>2</th>\n",
       "      <td>0</td>\n",
       "      <td>my whole body feels itchy and like its on fire</td>\n",
       "    </tr>\n",
       "  </tbody>\n",
       "</table>\n",
       "</div>"
      ],
      "text/plain": [
       "   Sentiment                                      SentimentText\n",
       "0          0    @switchfoot http://twitpic.com/2y1zl - Awww\\n0\"\n",
       "1          0  @Kenichan I dived many times for the ball. Man...\n",
       "2          0    my whole body feels itchy and like its on fire "
      ]
     },
     "execution_count": 4,
     "metadata": {},
     "output_type": "execute_result"
    }
   ],
   "source": [
    "def preprocess():\n",
    "    data = pd.read_csv(\"tweets.csv\",index_col=False,names=[\"Sentiment\",\"SentimentText\"])\n",
    "    data = data[data.Sentiment.isnull() == False]\n",
    "    data['Sentiment'] = data['Sentiment'].map(int)\n",
    "    data = data[data['SentimentText'].isnull() == False]\n",
    "    data.reset_index(inplace=True)\n",
    "    data.drop('index', axis=1, inplace=True)\n",
    "    print 'dataset loaded with shape', data.shape    \n",
    "    return data\n",
    "\n",
    "data=preprocess()\n",
    "data.head(3)"
   ]
  },
  {
   "cell_type": "code",
   "execution_count": 5,
   "metadata": {},
   "outputs": [
    {
     "name": "stderr",
     "output_type": "stream",
     "text": [
      "progress-bar: 100%|██████████| 100000/100000 [00:08<00:00, 11553.71it/s]\n",
      "/home/kritika/anaconda2/envs/spark/lib/python2.7/site-packages/ipykernel/__main__.py:14: SettingWithCopyWarning: \n",
      "A value is trying to be set on a copy of a slice from a DataFrame.\n",
      "Try using .loc[row_indexer,col_indexer] = value instead\n",
      "\n",
      "See the caveats in the documentation: http://pandas.pydata.org/pandas-docs/stable/indexing.html#indexing-view-versus-copy\n"
     ]
    }
   ],
   "source": [
    "def tokenize(tweet):\n",
    "    try:\n",
    "        tweet = unicode(tweet.decode('utf-8').lower())\n",
    "        tokens = tokenizer.tokenize(tweet)\n",
    "        tokens = filter(lambda t: not t.startswith('@'), tokens)\n",
    "        tokens = filter(lambda t: not t.startswith('#'), tokens)\n",
    "        tokens = filter(lambda t: not t.startswith('http'), tokens)\n",
    "        return tokens\n",
    "    except:\n",
    "        return 'NC'\n",
    "    \n",
    "def postprocess(data, n=100000):\n",
    "    data = data.head(n)\n",
    "    data['tokens'] = data['SentimentText'].progress_map(tokenize)  ## progress_map is a variant of the map function plus a progress bar.\n",
    "    data = data[data.tokens != 'NC']\n",
    "    data.reset_index(inplace=True)\n",
    "    del data['index']\n",
    "    return data\n",
    "\n",
    "data = postprocess(data)"
   ]
  },
  {
   "cell_type": "code",
   "execution_count": 6,
   "metadata": {},
   "outputs": [
    {
     "data": {
      "text/html": [
       "<div>\n",
       "<style scoped>\n",
       "    .dataframe tbody tr th:only-of-type {\n",
       "        vertical-align: middle;\n",
       "    }\n",
       "\n",
       "    .dataframe tbody tr th {\n",
       "        vertical-align: top;\n",
       "    }\n",
       "\n",
       "    .dataframe thead th {\n",
       "        text-align: right;\n",
       "    }\n",
       "</style>\n",
       "<table border=\"1\" class=\"dataframe\">\n",
       "  <thead>\n",
       "    <tr style=\"text-align: right;\">\n",
       "      <th></th>\n",
       "      <th>Sentiment</th>\n",
       "      <th>SentimentText</th>\n",
       "      <th>tokens</th>\n",
       "    </tr>\n",
       "  </thead>\n",
       "  <tbody>\n",
       "    <tr>\n",
       "      <th>0</th>\n",
       "      <td>0</td>\n",
       "      <td>@switchfoot http://twitpic.com/2y1zl - Awww\\n0\"</td>\n",
       "      <td>[-, awww, 0, \"]</td>\n",
       "    </tr>\n",
       "    <tr>\n",
       "      <th>1</th>\n",
       "      <td>0</td>\n",
       "      <td>@Kenichan I dived many times for the ball. Man...</td>\n",
       "      <td>[i, dived, many, times, for, the, ball, ., man...</td>\n",
       "    </tr>\n",
       "    <tr>\n",
       "      <th>2</th>\n",
       "      <td>0</td>\n",
       "      <td>my whole body feels itchy and like its on fire</td>\n",
       "      <td>[my, whole, body, feels, itchy, and, like, its...</td>\n",
       "    </tr>\n",
       "    <tr>\n",
       "      <th>3</th>\n",
       "      <td>0</td>\n",
       "      <td>@nationwideclass no \\n0\"</td>\n",
       "      <td>[no, 0, \"]</td>\n",
       "    </tr>\n",
       "  </tbody>\n",
       "</table>\n",
       "</div>"
      ],
      "text/plain": [
       "   Sentiment                                      SentimentText  \\\n",
       "0          0    @switchfoot http://twitpic.com/2y1zl - Awww\\n0\"   \n",
       "1          0  @Kenichan I dived many times for the ball. Man...   \n",
       "2          0    my whole body feels itchy and like its on fire    \n",
       "3          0                           @nationwideclass no \\n0\"   \n",
       "\n",
       "                                              tokens  \n",
       "0                                    [-, awww, 0, \"]  \n",
       "1  [i, dived, many, times, for, the, ball, ., man...  \n",
       "2  [my, whole, body, feels, itchy, and, like, its...  \n",
       "3                                         [no, 0, \"]  "
      ]
     },
     "execution_count": 6,
     "metadata": {},
     "output_type": "execute_result"
    }
   ],
   "source": [
    "data.head(4)"
   ]
  },
  {
   "cell_type": "code",
   "execution_count": 7,
   "metadata": {},
   "outputs": [
    {
     "name": "stdout",
     "output_type": "stream",
     "text": [
      "(100000, 3)\n"
     ]
    }
   ],
   "source": [
    "print data.shape"
   ]
  },
  {
   "cell_type": "markdown",
   "metadata": {},
   "source": [
    "## Lets start with Word2vec :"
   ]
  },
  {
   "cell_type": "code",
   "execution_count": 8,
   "metadata": {},
   "outputs": [],
   "source": [
    "import gensim\n",
    "from gensim.models.word2vec import Word2Vec # the word2vec model gensim class\n",
    "TaggedDocument = gensim.models.doc2vec.TaggedDocument \n",
    "from sklearn.model_selection import train_test_split\n",
    "from sklearn.feature_extraction.text import TfidfVectorizer"
   ]
  },
  {
   "cell_type": "code",
   "execution_count": 9,
   "metadata": {},
   "outputs": [],
   "source": [
    "#Split the data into testing data and traing data\n",
    "n=100000\n",
    "x_train, x_test, y_train, y_test = train_test_split(np.array(data.head(n).tokens),\n",
    "                                                    np.array(data.head(n).Sentiment), test_size=0.2)"
   ]
  },
  {
   "cell_type": "code",
   "execution_count": 10,
   "metadata": {},
   "outputs": [
    {
     "name": "stderr",
     "output_type": "stream",
     "text": [
      "80000it [00:00, 181281.34it/s]\n",
      "20000it [00:00, 295691.08it/s]\n"
     ]
    }
   ],
   "source": [
    "def labelizeTweets(tweets, label_type):\n",
    "    labelized = []\n",
    "    for i,v in tqdm(enumerate(tweets)):\n",
    "        label = '%s_%s'%(label_type,i)\n",
    "        labelized.append(TaggedDocument(v, [label]))\n",
    "    return labelized\n",
    "\n",
    "x_train = labelizeTweets(x_train, 'TRAIN')\n",
    "x_test = labelizeTweets(x_test, 'TEST')"
   ]
  },
  {
   "cell_type": "code",
   "execution_count": 11,
   "metadata": {},
   "outputs": [
    {
     "data": {
      "text/plain": [
       "[TaggedDocument(words=[u'is', u'sickies', u'will', u'soilder', u'on', u'for', u'after', u'work', u'drinks', u'though', u'!'], tags=['TRAIN_0']),\n",
       " TaggedDocument(words=[u'kid', u'vomit', u'...', u'dog', u'vomit', u'...', u'happy', u'mothers', u'day'], tags=['TRAIN_1']),\n",
       " TaggedDocument(words=[u'does', u'your', u'sack', u'weep', u'when', u'it', u'rains', u'?', u'mine', u'does', u'..', u'and', u'boy', u'does', u'it', u'let', u'me', u'know', u'about', u'it'], tags=['TRAIN_2'])]"
      ]
     },
     "execution_count": 11,
     "metadata": {},
     "output_type": "execute_result"
    }
   ],
   "source": [
    "x_train[:3]"
   ]
  },
  {
   "cell_type": "code",
   "execution_count": 12,
   "metadata": {},
   "outputs": [
    {
     "name": "stderr",
     "output_type": "stream",
     "text": [
      "100%|██████████| 80000/80000 [00:00<00:00, 1210944.77it/s]\n",
      "100%|██████████| 80000/80000 [00:00<00:00, 1273113.42it/s]\n"
     ]
    },
    {
     "data": {
      "text/plain": [
       "(3344801, 5046105)"
      ]
     },
     "execution_count": 12,
     "metadata": {},
     "output_type": "execute_result"
    }
   ],
   "source": [
    "#Fit data into Word2Vec model\n",
    "\n",
    "n_dim=50  #no. of features\n",
    "\n",
    "tweet_w2v = Word2Vec(size=n_dim, min_count=10)\n",
    "tweet_w2v.build_vocab([x.words for x in tqdm(x_train)])\n",
    "tweet_w2v.train([x.words for x in tqdm(x_train)], total_examples=tweet_w2v.corpus_count, epochs=tweet_w2v.epochs)\n"
   ]
  },
  {
   "cell_type": "markdown",
   "metadata": {},
   "source": [
    "### Now that we have a vector representation of every world , lets a method named most_similar provided by Word2Vec gensim. \n",
    "\n",
    "### Given a word, this method returns the top n similar ones. "
   ]
  },
  {
   "cell_type": "code",
   "execution_count": 13,
   "metadata": {},
   "outputs": [
    {
     "name": "stdout",
     "output_type": "stream",
     "text": [
      "[(u'myspace', 0.8617261052131653), (u'comment', 0.8304721713066101), (u'youtube', 0.8236387372016907), (u'twitter', 0.8197606801986694), (u'fb', 0.8139217495918274), (u'itunes', 0.8088420033454895), (u'iphone', 0.8043081164360046), (u'tweetdeck', 0.7998829483985901), (u'site', 0.7863008379936218), (u'website', 0.7754982113838196)]\n"
     ]
    }
   ],
   "source": [
    "print tweet_w2v.wv.most_similar('facebook')"
   ]
  },
  {
   "cell_type": "code",
   "execution_count": 14,
   "metadata": {},
   "outputs": [
    {
     "name": "stdout",
     "output_type": "stream",
     "text": [
      "[(u\"mother's\", 0.6230425834655762), (u'nice', 0.6164500117301941), (u'busy', 0.6096088290214539), (u'mothers', 0.6003849506378174), (u'excited', 0.5783932209014893), (u'bummed', 0.5708513259887695), (u'boring', 0.5586500763893127), (u'sad', 0.5523676872253418), (u'quiet', 0.5413385629653931), (u'beautiful', 0.53265380859375)]\n"
     ]
    }
   ],
   "source": [
    "print tweet_w2v.wv.most_similar('happy')"
   ]
  },
  {
   "cell_type": "markdown",
   "metadata": {},
   "source": [
    "## Visualizing the Dataset \n",
    "\n",
    "* step1: Convert n-dimensional vector to 2-D vector using TSNE\n",
    "* step2: vizualize these vector on a plane using Bokeh"
   ]
  },
  {
   "cell_type": "code",
   "execution_count": 15,
   "metadata": {},
   "outputs": [],
   "source": [
    "from sklearn.manifold import TSNE\n",
    "\n",
    "tsne_model = TSNE(n_components=2, verbose=1, random_state=0)"
   ]
  },
  {
   "cell_type": "code",
   "execution_count": 16,
   "metadata": {},
   "outputs": [
    {
     "name": "stderr",
     "output_type": "stream",
     "text": [
      "/home/kritika/anaconda2/envs/spark/lib/python2.7/site-packages/ipykernel/__main__.py:2: DeprecationWarning: Call to deprecated `__getitem__` (Method will be removed in 4.0.0, use self.wv.__getitem__() instead).\n",
      "  from ipykernel import kernelapp as app\n"
     ]
    }
   ],
   "source": [
    "# getting a list of word vectors. limit to 10000. each is of 200 dimensions\n",
    "word_vectors = [tweet_w2v[w] for w in tweet_w2v.wv.vocab.keys()[:4000]]\n"
   ]
  },
  {
   "cell_type": "code",
   "execution_count": 17,
   "metadata": {},
   "outputs": [
    {
     "name": "stdout",
     "output_type": "stream",
     "text": [
      "[t-SNE] Computing 91 nearest neighbors...\n",
      "[t-SNE] Indexed 4000 samples in 0.008s...\n",
      "[t-SNE] Computed neighbors for 4000 samples in 1.774s...\n",
      "[t-SNE] Computed conditional probabilities for sample 1000 / 4000\n",
      "[t-SNE] Computed conditional probabilities for sample 2000 / 4000\n",
      "[t-SNE] Computed conditional probabilities for sample 3000 / 4000\n",
      "[t-SNE] Computed conditional probabilities for sample 4000 / 4000\n",
      "[t-SNE] Mean sigma: 0.169372\n",
      "[t-SNE] KL divergence after 250 iterations with early exaggeration: 82.398155\n",
      "[t-SNE] Error after 1000 iterations: 2.441172\n"
     ]
    }
   ],
   "source": [
    "tsne_w2v = tsne_model.fit_transform(word_vectors)\n",
    "\n",
    "# putting everything in a dataframe\n",
    "tsne_df = pd.DataFrame(tsne_w2v, columns=['x', 'y'])\n",
    "tsne_df['words'] = tweet_w2v.wv.vocab.keys()[:4000]"
   ]
  },
  {
   "cell_type": "code",
   "execution_count": 18,
   "metadata": {},
   "outputs": [
    {
     "name": "stdout",
     "output_type": "stream",
     "text": [
      "           x          y     words\n",
      "0  10.164096  -9.821815     stock\n",
      "1   9.867121 -45.394291   raining\n",
      "2  13.771583 -11.498062    todays\n",
      "3 -31.686312  10.150613  showered\n",
      "4 -32.879318  29.907715    whoops\n"
     ]
    }
   ],
   "source": [
    "print tsne_df.head(5)"
   ]
  },
  {
   "cell_type": "code",
   "execution_count": 19,
   "metadata": {},
   "outputs": [
    {
     "data": {
      "text/html": [
       "\n",
       "    <div class=\"bk-root\">\n",
       "        <a href=\"https://bokeh.pydata.org\" target=\"_blank\" class=\"bk-logo bk-logo-small bk-logo-notebook\"></a>\n",
       "        <span id=\"7e298df0-8357-4fe1-8b1f-339a609ed7f6\">Loading BokehJS ...</span>\n",
       "    </div>"
      ]
     },
     "metadata": {},
     "output_type": "display_data"
    },
    {
     "data": {
      "application/javascript": [
       "\n",
       "(function(root) {\n",
       "  function now() {\n",
       "    return new Date();\n",
       "  }\n",
       "\n",
       "  var force = true;\n",
       "\n",
       "  if (typeof (root._bokeh_onload_callbacks) === \"undefined\" || force === true) {\n",
       "    root._bokeh_onload_callbacks = [];\n",
       "    root._bokeh_is_loading = undefined;\n",
       "  }\n",
       "\n",
       "  var JS_MIME_TYPE = 'application/javascript';\n",
       "  var HTML_MIME_TYPE = 'text/html';\n",
       "  var EXEC_MIME_TYPE = 'application/vnd.bokehjs_exec.v0+json';\n",
       "  var CLASS_NAME = 'output_bokeh rendered_html';\n",
       "\n",
       "  /**\n",
       "   * Render data to the DOM node\n",
       "   */\n",
       "  function render(props, node) {\n",
       "    var script = document.createElement(\"script\");\n",
       "    node.appendChild(script);\n",
       "  }\n",
       "\n",
       "  /**\n",
       "   * Handle when an output is cleared or removed\n",
       "   */\n",
       "  function handleClearOutput(event, handle) {\n",
       "    var cell = handle.cell;\n",
       "\n",
       "    var id = cell.output_area._bokeh_element_id;\n",
       "    var server_id = cell.output_area._bokeh_server_id;\n",
       "    // Clean up Bokeh references\n",
       "    if (id != null && id in Bokeh.index) {\n",
       "      Bokeh.index[id].model.document.clear();\n",
       "      delete Bokeh.index[id];\n",
       "    }\n",
       "\n",
       "    if (server_id !== undefined) {\n",
       "      // Clean up Bokeh references\n",
       "      var cmd = \"from bokeh.io.state import curstate; print(curstate().uuid_to_server['\" + server_id + \"'].get_sessions()[0].document.roots[0]._id)\";\n",
       "      cell.notebook.kernel.execute(cmd, {\n",
       "        iopub: {\n",
       "          output: function(msg) {\n",
       "            var id = msg.content.text.trim();\n",
       "            if (id in Bokeh.index) {\n",
       "              Bokeh.index[id].model.document.clear();\n",
       "              delete Bokeh.index[id];\n",
       "            }\n",
       "          }\n",
       "        }\n",
       "      });\n",
       "      // Destroy server and session\n",
       "      var cmd = \"import bokeh.io.notebook as ion; ion.destroy_server('\" + server_id + \"')\";\n",
       "      cell.notebook.kernel.execute(cmd);\n",
       "    }\n",
       "  }\n",
       "\n",
       "  /**\n",
       "   * Handle when a new output is added\n",
       "   */\n",
       "  function handleAddOutput(event, handle) {\n",
       "    var output_area = handle.output_area;\n",
       "    var output = handle.output;\n",
       "\n",
       "    // limit handleAddOutput to display_data with EXEC_MIME_TYPE content only\n",
       "    if ((output.output_type != \"display_data\") || (!output.data.hasOwnProperty(EXEC_MIME_TYPE))) {\n",
       "      return\n",
       "    }\n",
       "\n",
       "    var toinsert = output_area.element.find(\".\" + CLASS_NAME.split(' ')[0]);\n",
       "\n",
       "    if (output.metadata[EXEC_MIME_TYPE][\"id\"] !== undefined) {\n",
       "      toinsert[toinsert.length - 1].firstChild.textContent = output.data[JS_MIME_TYPE];\n",
       "      // store reference to embed id on output_area\n",
       "      output_area._bokeh_element_id = output.metadata[EXEC_MIME_TYPE][\"id\"];\n",
       "    }\n",
       "    if (output.metadata[EXEC_MIME_TYPE][\"server_id\"] !== undefined) {\n",
       "      var bk_div = document.createElement(\"div\");\n",
       "      bk_div.innerHTML = output.data[HTML_MIME_TYPE];\n",
       "      var script_attrs = bk_div.children[0].attributes;\n",
       "      for (var i = 0; i < script_attrs.length; i++) {\n",
       "        toinsert[toinsert.length - 1].firstChild.setAttribute(script_attrs[i].name, script_attrs[i].value);\n",
       "      }\n",
       "      // store reference to server id on output_area\n",
       "      output_area._bokeh_server_id = output.metadata[EXEC_MIME_TYPE][\"server_id\"];\n",
       "    }\n",
       "  }\n",
       "\n",
       "  function register_renderer(events, OutputArea) {\n",
       "\n",
       "    function append_mime(data, metadata, element) {\n",
       "      // create a DOM node to render to\n",
       "      var toinsert = this.create_output_subarea(\n",
       "        metadata,\n",
       "        CLASS_NAME,\n",
       "        EXEC_MIME_TYPE\n",
       "      );\n",
       "      this.keyboard_manager.register_events(toinsert);\n",
       "      // Render to node\n",
       "      var props = {data: data, metadata: metadata[EXEC_MIME_TYPE]};\n",
       "      render(props, toinsert[toinsert.length - 1]);\n",
       "      element.append(toinsert);\n",
       "      return toinsert\n",
       "    }\n",
       "\n",
       "    /* Handle when an output is cleared or removed */\n",
       "    events.on('clear_output.CodeCell', handleClearOutput);\n",
       "    events.on('delete.Cell', handleClearOutput);\n",
       "\n",
       "    /* Handle when a new output is added */\n",
       "    events.on('output_added.OutputArea', handleAddOutput);\n",
       "\n",
       "    /**\n",
       "     * Register the mime type and append_mime function with output_area\n",
       "     */\n",
       "    OutputArea.prototype.register_mime_type(EXEC_MIME_TYPE, append_mime, {\n",
       "      /* Is output safe? */\n",
       "      safe: true,\n",
       "      /* Index of renderer in `output_area.display_order` */\n",
       "      index: 0\n",
       "    });\n",
       "  }\n",
       "\n",
       "  // register the mime type if in Jupyter Notebook environment and previously unregistered\n",
       "  if (root.Jupyter !== undefined) {\n",
       "    var events = require('base/js/events');\n",
       "    var OutputArea = require('notebook/js/outputarea').OutputArea;\n",
       "\n",
       "    if (OutputArea.prototype.mime_types().indexOf(EXEC_MIME_TYPE) == -1) {\n",
       "      register_renderer(events, OutputArea);\n",
       "    }\n",
       "  }\n",
       "\n",
       "  \n",
       "  if (typeof (root._bokeh_timeout) === \"undefined\" || force === true) {\n",
       "    root._bokeh_timeout = Date.now() + 5000;\n",
       "    root._bokeh_failed_load = false;\n",
       "  }\n",
       "\n",
       "  var NB_LOAD_WARNING = {'data': {'text/html':\n",
       "     \"<div style='background-color: #fdd'>\\n\"+\n",
       "     \"<p>\\n\"+\n",
       "     \"BokehJS does not appear to have successfully loaded. If loading BokehJS from CDN, this \\n\"+\n",
       "     \"may be due to a slow or bad network connection. Possible fixes:\\n\"+\n",
       "     \"</p>\\n\"+\n",
       "     \"<ul>\\n\"+\n",
       "     \"<li>re-rerun `output_notebook()` to attempt to load from CDN again, or</li>\\n\"+\n",
       "     \"<li>use INLINE resources instead, as so:</li>\\n\"+\n",
       "     \"</ul>\\n\"+\n",
       "     \"<code>\\n\"+\n",
       "     \"from bokeh.resources import INLINE\\n\"+\n",
       "     \"output_notebook(resources=INLINE)\\n\"+\n",
       "     \"</code>\\n\"+\n",
       "     \"</div>\"}};\n",
       "\n",
       "  function display_loaded() {\n",
       "    var el = document.getElementById(\"7e298df0-8357-4fe1-8b1f-339a609ed7f6\");\n",
       "    if (el != null) {\n",
       "      el.textContent = \"BokehJS is loading...\";\n",
       "    }\n",
       "    if (root.Bokeh !== undefined) {\n",
       "      if (el != null) {\n",
       "        el.textContent = \"BokehJS \" + root.Bokeh.version + \" successfully loaded.\";\n",
       "      }\n",
       "    } else if (Date.now() < root._bokeh_timeout) {\n",
       "      setTimeout(display_loaded, 100)\n",
       "    }\n",
       "  }\n",
       "\n",
       "\n",
       "  function run_callbacks() {\n",
       "    try {\n",
       "      root._bokeh_onload_callbacks.forEach(function(callback) { callback() });\n",
       "    }\n",
       "    finally {\n",
       "      delete root._bokeh_onload_callbacks\n",
       "    }\n",
       "    console.info(\"Bokeh: all callbacks have finished\");\n",
       "  }\n",
       "\n",
       "  function load_libs(js_urls, callback) {\n",
       "    root._bokeh_onload_callbacks.push(callback);\n",
       "    if (root._bokeh_is_loading > 0) {\n",
       "      console.log(\"Bokeh: BokehJS is being loaded, scheduling callback at\", now());\n",
       "      return null;\n",
       "    }\n",
       "    if (js_urls == null || js_urls.length === 0) {\n",
       "      run_callbacks();\n",
       "      return null;\n",
       "    }\n",
       "    console.log(\"Bokeh: BokehJS not loaded, scheduling load and callback at\", now());\n",
       "    root._bokeh_is_loading = js_urls.length;\n",
       "    for (var i = 0; i < js_urls.length; i++) {\n",
       "      var url = js_urls[i];\n",
       "      var s = document.createElement('script');\n",
       "      s.src = url;\n",
       "      s.async = false;\n",
       "      s.onreadystatechange = s.onload = function() {\n",
       "        root._bokeh_is_loading--;\n",
       "        if (root._bokeh_is_loading === 0) {\n",
       "          console.log(\"Bokeh: all BokehJS libraries loaded\");\n",
       "          run_callbacks()\n",
       "        }\n",
       "      };\n",
       "      s.onerror = function() {\n",
       "        console.warn(\"failed to load library \" + url);\n",
       "      };\n",
       "      console.log(\"Bokeh: injecting script tag for BokehJS library: \", url);\n",
       "      document.getElementsByTagName(\"head\")[0].appendChild(s);\n",
       "    }\n",
       "  };var element = document.getElementById(\"7e298df0-8357-4fe1-8b1f-339a609ed7f6\");\n",
       "  if (element == null) {\n",
       "    console.log(\"Bokeh: ERROR: autoload.js configured with elementid '7e298df0-8357-4fe1-8b1f-339a609ed7f6' but no matching script tag was found. \")\n",
       "    return false;\n",
       "  }\n",
       "\n",
       "  var js_urls = [\"https://cdn.pydata.org/bokeh/release/bokeh-0.13.0.min.js\", \"https://cdn.pydata.org/bokeh/release/bokeh-widgets-0.13.0.min.js\", \"https://cdn.pydata.org/bokeh/release/bokeh-tables-0.13.0.min.js\", \"https://cdn.pydata.org/bokeh/release/bokeh-gl-0.13.0.min.js\"];\n",
       "\n",
       "  var inline_js = [\n",
       "    function(Bokeh) {\n",
       "      Bokeh.set_log_level(\"info\");\n",
       "    },\n",
       "    \n",
       "    function(Bokeh) {\n",
       "      \n",
       "    },\n",
       "    function(Bokeh) {\n",
       "      console.log(\"Bokeh: injecting CSS: https://cdn.pydata.org/bokeh/release/bokeh-0.13.0.min.css\");\n",
       "      Bokeh.embed.inject_css(\"https://cdn.pydata.org/bokeh/release/bokeh-0.13.0.min.css\");\n",
       "      console.log(\"Bokeh: injecting CSS: https://cdn.pydata.org/bokeh/release/bokeh-widgets-0.13.0.min.css\");\n",
       "      Bokeh.embed.inject_css(\"https://cdn.pydata.org/bokeh/release/bokeh-widgets-0.13.0.min.css\");\n",
       "      console.log(\"Bokeh: injecting CSS: https://cdn.pydata.org/bokeh/release/bokeh-tables-0.13.0.min.css\");\n",
       "      Bokeh.embed.inject_css(\"https://cdn.pydata.org/bokeh/release/bokeh-tables-0.13.0.min.css\");\n",
       "    }\n",
       "  ];\n",
       "\n",
       "  function run_inline_js() {\n",
       "    \n",
       "    if ((root.Bokeh !== undefined) || (force === true)) {\n",
       "      for (var i = 0; i < inline_js.length; i++) {\n",
       "        inline_js[i].call(root, root.Bokeh);\n",
       "      }if (force === true) {\n",
       "        display_loaded();\n",
       "      }} else if (Date.now() < root._bokeh_timeout) {\n",
       "      setTimeout(run_inline_js, 100);\n",
       "    } else if (!root._bokeh_failed_load) {\n",
       "      console.log(\"Bokeh: BokehJS failed to load within specified timeout.\");\n",
       "      root._bokeh_failed_load = true;\n",
       "    } else if (force !== true) {\n",
       "      var cell = $(document.getElementById(\"7e298df0-8357-4fe1-8b1f-339a609ed7f6\")).parents('.cell').data().cell;\n",
       "      cell.output_area.append_execute_result(NB_LOAD_WARNING)\n",
       "    }\n",
       "\n",
       "  }\n",
       "\n",
       "  if (root._bokeh_is_loading === 0) {\n",
       "    console.log(\"Bokeh: BokehJS loaded, going straight to plotting\");\n",
       "    run_inline_js();\n",
       "  } else {\n",
       "    load_libs(js_urls, function() {\n",
       "      console.log(\"Bokeh: BokehJS plotting callback run at\", now());\n",
       "      run_inline_js();\n",
       "    });\n",
       "  }\n",
       "}(window));"
      ],
      "application/vnd.bokehjs_load.v0+json": "\n(function(root) {\n  function now() {\n    return new Date();\n  }\n\n  var force = true;\n\n  if (typeof (root._bokeh_onload_callbacks) === \"undefined\" || force === true) {\n    root._bokeh_onload_callbacks = [];\n    root._bokeh_is_loading = undefined;\n  }\n\n  \n\n  \n  if (typeof (root._bokeh_timeout) === \"undefined\" || force === true) {\n    root._bokeh_timeout = Date.now() + 5000;\n    root._bokeh_failed_load = false;\n  }\n\n  var NB_LOAD_WARNING = {'data': {'text/html':\n     \"<div style='background-color: #fdd'>\\n\"+\n     \"<p>\\n\"+\n     \"BokehJS does not appear to have successfully loaded. If loading BokehJS from CDN, this \\n\"+\n     \"may be due to a slow or bad network connection. Possible fixes:\\n\"+\n     \"</p>\\n\"+\n     \"<ul>\\n\"+\n     \"<li>re-rerun `output_notebook()` to attempt to load from CDN again, or</li>\\n\"+\n     \"<li>use INLINE resources instead, as so:</li>\\n\"+\n     \"</ul>\\n\"+\n     \"<code>\\n\"+\n     \"from bokeh.resources import INLINE\\n\"+\n     \"output_notebook(resources=INLINE)\\n\"+\n     \"</code>\\n\"+\n     \"</div>\"}};\n\n  function display_loaded() {\n    var el = document.getElementById(\"7e298df0-8357-4fe1-8b1f-339a609ed7f6\");\n    if (el != null) {\n      el.textContent = \"BokehJS is loading...\";\n    }\n    if (root.Bokeh !== undefined) {\n      if (el != null) {\n        el.textContent = \"BokehJS \" + root.Bokeh.version + \" successfully loaded.\";\n      }\n    } else if (Date.now() < root._bokeh_timeout) {\n      setTimeout(display_loaded, 100)\n    }\n  }\n\n\n  function run_callbacks() {\n    try {\n      root._bokeh_onload_callbacks.forEach(function(callback) { callback() });\n    }\n    finally {\n      delete root._bokeh_onload_callbacks\n    }\n    console.info(\"Bokeh: all callbacks have finished\");\n  }\n\n  function load_libs(js_urls, callback) {\n    root._bokeh_onload_callbacks.push(callback);\n    if (root._bokeh_is_loading > 0) {\n      console.log(\"Bokeh: BokehJS is being loaded, scheduling callback at\", now());\n      return null;\n    }\n    if (js_urls == null || js_urls.length === 0) {\n      run_callbacks();\n      return null;\n    }\n    console.log(\"Bokeh: BokehJS not loaded, scheduling load and callback at\", now());\n    root._bokeh_is_loading = js_urls.length;\n    for (var i = 0; i < js_urls.length; i++) {\n      var url = js_urls[i];\n      var s = document.createElement('script');\n      s.src = url;\n      s.async = false;\n      s.onreadystatechange = s.onload = function() {\n        root._bokeh_is_loading--;\n        if (root._bokeh_is_loading === 0) {\n          console.log(\"Bokeh: all BokehJS libraries loaded\");\n          run_callbacks()\n        }\n      };\n      s.onerror = function() {\n        console.warn(\"failed to load library \" + url);\n      };\n      console.log(\"Bokeh: injecting script tag for BokehJS library: \", url);\n      document.getElementsByTagName(\"head\")[0].appendChild(s);\n    }\n  };var element = document.getElementById(\"7e298df0-8357-4fe1-8b1f-339a609ed7f6\");\n  if (element == null) {\n    console.log(\"Bokeh: ERROR: autoload.js configured with elementid '7e298df0-8357-4fe1-8b1f-339a609ed7f6' but no matching script tag was found. \")\n    return false;\n  }\n\n  var js_urls = [\"https://cdn.pydata.org/bokeh/release/bokeh-0.13.0.min.js\", \"https://cdn.pydata.org/bokeh/release/bokeh-widgets-0.13.0.min.js\", \"https://cdn.pydata.org/bokeh/release/bokeh-tables-0.13.0.min.js\", \"https://cdn.pydata.org/bokeh/release/bokeh-gl-0.13.0.min.js\"];\n\n  var inline_js = [\n    function(Bokeh) {\n      Bokeh.set_log_level(\"info\");\n    },\n    \n    function(Bokeh) {\n      \n    },\n    function(Bokeh) {\n      console.log(\"Bokeh: injecting CSS: https://cdn.pydata.org/bokeh/release/bokeh-0.13.0.min.css\");\n      Bokeh.embed.inject_css(\"https://cdn.pydata.org/bokeh/release/bokeh-0.13.0.min.css\");\n      console.log(\"Bokeh: injecting CSS: https://cdn.pydata.org/bokeh/release/bokeh-widgets-0.13.0.min.css\");\n      Bokeh.embed.inject_css(\"https://cdn.pydata.org/bokeh/release/bokeh-widgets-0.13.0.min.css\");\n      console.log(\"Bokeh: injecting CSS: https://cdn.pydata.org/bokeh/release/bokeh-tables-0.13.0.min.css\");\n      Bokeh.embed.inject_css(\"https://cdn.pydata.org/bokeh/release/bokeh-tables-0.13.0.min.css\");\n    }\n  ];\n\n  function run_inline_js() {\n    \n    if ((root.Bokeh !== undefined) || (force === true)) {\n      for (var i = 0; i < inline_js.length; i++) {\n        inline_js[i].call(root, root.Bokeh);\n      }if (force === true) {\n        display_loaded();\n      }} else if (Date.now() < root._bokeh_timeout) {\n      setTimeout(run_inline_js, 100);\n    } else if (!root._bokeh_failed_load) {\n      console.log(\"Bokeh: BokehJS failed to load within specified timeout.\");\n      root._bokeh_failed_load = true;\n    } else if (force !== true) {\n      var cell = $(document.getElementById(\"7e298df0-8357-4fe1-8b1f-339a609ed7f6\")).parents('.cell').data().cell;\n      cell.output_area.append_execute_result(NB_LOAD_WARNING)\n    }\n\n  }\n\n  if (root._bokeh_is_loading === 0) {\n    console.log(\"Bokeh: BokehJS loaded, going straight to plotting\");\n    run_inline_js();\n  } else {\n    load_libs(js_urls, function() {\n      console.log(\"Bokeh: BokehJS plotting callback run at\", now());\n      run_inline_js();\n    });\n  }\n}(window));"
     },
     "metadata": {},
     "output_type": "display_data"
    },
    {
     "data": {
      "text/html": [
       "\n",
       "\n",
       "\n",
       "\n",
       "\n",
       "\n",
       "  <div class=\"bk-root\" id=\"683efc8a-7d55-46f1-8eb4-964e0c94b5ad\"></div>\n"
      ]
     },
     "metadata": {},
     "output_type": "display_data"
    },
    {
     "data": {
      "application/javascript": [
       "(function(root) {\n",
       "  function embed_document(root) {\n",
       "    \n",
       "  var docs_json = {\"9178a74d-dcfb-45c5-84a3-0e43cfe3524c\":{\"roots\":{\"references\":[{\"attributes\":{\"callback\":null,\"renderers\":\"auto\",\"tooltips\":[[\"word\",\"@words\"]]},\"id\":\"15d891ef-2028-4000-8ad5-1bf5174cd0fe\",\"type\":\"HoverTool\"},{\"attributes\":{},\"id\":\"e2dbcd4a-8803-4757-b057-7b3652c03599\",\"type\":\"SaveTool\"},{\"attributes\":{\"active_drag\":\"auto\",\"active_inspect\":\"auto\",\"active_multi\":null,\"active_scroll\":\"auto\",\"active_tap\":\"auto\",\"tools\":[{\"id\":\"5c2c21b1-eadd-4cb9-b1b2-956e185e1dd2\",\"type\":\"PanTool\"},{\"id\":\"3fab1e7f-b1d1-4151-b805-888a61541eb5\",\"type\":\"WheelZoomTool\"},{\"id\":\"47a94cd0-71c7-4bbd-bc1a-aad61cbeb818\",\"type\":\"BoxZoomTool\"},{\"id\":\"4c5e9373-2e4e-4ba2-bc00-fa5ef0e250fc\",\"type\":\"ResetTool\"},{\"id\":\"15d891ef-2028-4000-8ad5-1bf5174cd0fe\",\"type\":\"HoverTool\"},{\"id\":\"e2dbcd4a-8803-4757-b057-7b3652c03599\",\"type\":\"SaveTool\"}]},\"id\":\"3e713818-c2de-478d-ae4c-8f5fc1617a4c\",\"type\":\"Toolbar\"},{\"attributes\":{\"callback\":null},\"id\":\"30acaffc-cffe-44b0-acff-d7a5e1c64e76\",\"type\":\"DataRange1d\"},{\"attributes\":{\"callback\":null,\"data\":{\"index\":[0,1,2,3,4,5,6,7,8,9,10,11,12,13,14,15,16,17,18,19,20,21,22,23,24,25,26,27,28,29,30,31,32,33,34,35,36,37,38,39,40,41,42,43,44,45,46,47,48,49,50,51,52,53,54,55,56,57,58,59,60,61,62,63,64,65,66,67,68,69,70,71,72,73,74,75,76,77,78,79,80,81,82,83,84,85,86,87,88,89,90,91,92,93,94,95,96,97,98,99,100,101,102,103,104,105,106,107,108,109,110,111,112,113,114,115,116,117,118,119,120,121,122,123,124,125,126,127,128,129,130,131,132,133,134,135,136,137,138,139,140,141,142,143,144,145,146,147,148,149,150,151,152,153,154,155,156,157,158,159,160,161,162,163,164,165,166,167,168,169,170,171,172,173,174,175,176,177,178,179,180,181,182,183,184,185,186,187,188,189,190,191,192,193,194,195,196,197,198,199,200,201,202,203,204,205,206,207,208,209,210,211,212,213,214,215,216,217,218,219,220,221,222,223,224,225,226,227,228,229,230,231,232,233,234,235,236,237,238,239,240,241,242,243,244,245,246,247,248,249,250,251,252,253,254,255,256,257,258,259,260,261,262,263,264,265,266,267,268,269,270,271,272,273,274,275,276,277,278,279,280,281,282,283,284,285,286,287,288,289,290,291,292,293,294,295,296,297,298,299,300,301,302,303,304,305,306,307,308,309,310,311,312,313,314,315,316,317,318,319,320,321,322,323,324,325,326,327,328,329,330,331,332,333,334,335,336,337,338,339,340,341,342,343,344,345,346,347,348,349,350,351,352,353,354,355,356,357,358,359,360,361,362,363,364,365,366,367,368,369,370,371,372,373,374,375,376,377,378,379,380,381,382,383,384,385,386,387,388,389,390,391,392,393,394,395,396,397,398,399,400,401,402,403,404,405,406,407,408,409,410,411,412,413,414,415,416,417,418,419,420,421,422,423,424,425,426,427,428,429,430,431,432,433,434,435,436,437,438,439,440,441,442,443,444,445,446,447,448,449,450,451,452,453,454,455,456,457,458,459,460,461,462,463,464,465,466,467,468,469,470,471,472,473,474,475,476,477,478,479,480,481,482,483,484,485,486,487,488,489,490,491,492,493,494,495,496,497,498,499,500,501,502,503,504,505,506,507,508,509,510,511,512,513,514,515,516,517,518,519,520,521,522,523,524,525,526,527,528,529,530,531,532,533,534,535,536,537,538,539,540,541,542,543,544,545,546,547,548,549,550,551,552,553,554,555,556,557,558,559,560,561,562,563,564,565,566,567,568,569,570,571,572,573,574,575,576,577,578,579,580,581,582,583,584,585,586,587,588,589,590,591,592,593,594,595,596,597,598,599,600,601,602,603,604,605,606,607,608,609,610,611,612,613,614,615,616,617,618,619,620,621,622,623,624,625,626,627,628,629,630,631,632,633,634,635,636,637,638,639,640,641,642,643,644,645,646,647,648,649,650,651,652,653,654,655,656,657,658,659,660,661,662,663,664,665,666,667,668,669,670,671,672,673,674,675,676,677,678,679,680,681,682,683,684,685,686,687,688,689,690,691,692,693,694,695,696,697,698,699,700,701,702,703,704,705,706,707,708,709,710,711,712,713,714,715,716,717,718,719,720,721,722,723,724,725,726,727,728,729,730,731,732,733,734,735,736,737,738,739,740,741,742,743,744,745,746,747,748,749,750,751,752,753,754,755,756,757,758,759,760,761,762,763,764,765,766,767,768,769,770,771,772,773,774,775,776,777,778,779,780,781,782,783,784,785,786,787,788,789,790,791,792,793,794,795,796,797,798,799,800,801,802,803,804,805,806,807,808,809,810,811,812,813,814,815,816,817,818,819,820,821,822,823,824,825,826,827,828,829,830,831,832,833,834,835,836,837,838,839,840,841,842,843,844,845,846,847,848,849,850,851,852,853,854,855,856,857,858,859,860,861,862,863,864,865,866,867,868,869,870,871,872,873,874,875,876,877,878,879,880,881,882,883,884,885,886,887,888,889,890,891,892,893,894,895,896,897,898,899,900,901,902,903,904,905,906,907,908,909,910,911,912,913,914,915,916,917,918,919,920,921,922,923,924,925,926,927,928,929,930,931,932,933,934,935,936,937,938,939,940,941,942,943,944,945,946,947,948,949,950,951,952,953,954,955,956,957,958,959,960,961,962,963,964,965,966,967,968,969,970,971,972,973,974,975,976,977,978,979,980,981,982,983,984,985,986,987,988,989,990,991,992,993,994,995,996,997,998,999,1000,1001,1002,1003,1004,1005,1006,1007,1008,1009,1010,1011,1012,1013,1014,1015,1016,1017,1018,1019,1020,1021,1022,1023,1024,1025,1026,1027,1028,1029,1030,1031,1032,1033,1034,1035,1036,1037,1038,1039,1040,1041,1042,1043,1044,1045,1046,1047,1048,1049,1050,1051,1052,1053,1054,1055,1056,1057,1058,1059,1060,1061,1062,1063,1064,1065,1066,1067,1068,1069,1070,1071,1072,1073,1074,1075,1076,1077,1078,1079,1080,1081,1082,1083,1084,1085,1086,1087,1088,1089,1090,1091,1092,1093,1094,1095,1096,1097,1098,1099,1100,1101,1102,1103,1104,1105,1106,1107,1108,1109,1110,1111,1112,1113,1114,1115,1116,1117,1118,1119,1120,1121,1122,1123,1124,1125,1126,1127,1128,1129,1130,1131,1132,1133,1134,1135,1136,1137,1138,1139,1140,1141,1142,1143,1144,1145,1146,1147,1148,1149,1150,1151,1152,1153,1154,1155,1156,1157,1158,1159,1160,1161,1162,1163,1164,1165,1166,1167,1168,1169,1170,1171,1172,1173,1174,1175,1176,1177,1178,1179,1180,1181,1182,1183,1184,1185,1186,1187,1188,1189,1190,1191,1192,1193,1194,1195,1196,1197,1198,1199,1200,1201,1202,1203,1204,1205,1206,1207,1208,1209,1210,1211,1212,1213,1214,1215,1216,1217,1218,1219,1220,1221,1222,1223,1224,1225,1226,1227,1228,1229,1230,1231,1232,1233,1234,1235,1236,1237,1238,1239,1240,1241,1242,1243,1244,1245,1246,1247,1248,1249,1250,1251,1252,1253,1254,1255,1256,1257,1258,1259,1260,1261,1262,1263,1264,1265,1266,1267,1268,1269,1270,1271,1272,1273,1274,1275,1276,1277,1278,1279,1280,1281,1282,1283,1284,1285,1286,1287,1288,1289,1290,1291,1292,1293,1294,1295,1296,1297,1298,1299,1300,1301,1302,1303,1304,1305,1306,1307,1308,1309,1310,1311,1312,1313,1314,1315,1316,1317,1318,1319,1320,1321,1322,1323,1324,1325,1326,1327,1328,1329,1330,1331,1332,1333,1334,1335,1336,1337,1338,1339,1340,1341,1342,1343,1344,1345,1346,1347,1348,1349,1350,1351,1352,1353,1354,1355,1356,1357,1358,1359,1360,1361,1362,1363,1364,1365,1366,1367,1368,1369,1370,1371,1372,1373,1374,1375,1376,1377,1378,1379,1380,1381,1382,1383,1384,1385,1386,1387,1388,1389,1390,1391,1392,1393,1394,1395,1396,1397,1398,1399,1400,1401,1402,1403,1404,1405,1406,1407,1408,1409,1410,1411,1412,1413,1414,1415,1416,1417,1418,1419,1420,1421,1422,1423,1424,1425,1426,1427,1428,1429,1430,1431,1432,1433,1434,1435,1436,1437,1438,1439,1440,1441,1442,1443,1444,1445,1446,1447,1448,1449,1450,1451,1452,1453,1454,1455,1456,1457,1458,1459,1460,1461,1462,1463,1464,1465,1466,1467,1468,1469,1470,1471,1472,1473,1474,1475,1476,1477,1478,1479,1480,1481,1482,1483,1484,1485,1486,1487,1488,1489,1490,1491,1492,1493,1494,1495,1496,1497,1498,1499,1500,1501,1502,1503,1504,1505,1506,1507,1508,1509,1510,1511,1512,1513,1514,1515,1516,1517,1518,1519,1520,1521,1522,1523,1524,1525,1526,1527,1528,1529,1530,1531,1532,1533,1534,1535,1536,1537,1538,1539,1540,1541,1542,1543,1544,1545,1546,1547,1548,1549,1550,1551,1552,1553,1554,1555,1556,1557,1558,1559,1560,1561,1562,1563,1564,1565,1566,1567,1568,1569,1570,1571,1572,1573,1574,1575,1576,1577,1578,1579,1580,1581,1582,1583,1584,1585,1586,1587,1588,1589,1590,1591,1592,1593,1594,1595,1596,1597,1598,1599,1600,1601,1602,1603,1604,1605,1606,1607,1608,1609,1610,1611,1612,1613,1614,1615,1616,1617,1618,1619,1620,1621,1622,1623,1624,1625,1626,1627,1628,1629,1630,1631,1632,1633,1634,1635,1636,1637,1638,1639,1640,1641,1642,1643,1644,1645,1646,1647,1648,1649,1650,1651,1652,1653,1654,1655,1656,1657,1658,1659,1660,1661,1662,1663,1664,1665,1666,1667,1668,1669,1670,1671,1672,1673,1674,1675,1676,1677,1678,1679,1680,1681,1682,1683,1684,1685,1686,1687,1688,1689,1690,1691,1692,1693,1694,1695,1696,1697,1698,1699,1700,1701,1702,1703,1704,1705,1706,1707,1708,1709,1710,1711,1712,1713,1714,1715,1716,1717,1718,1719,1720,1721,1722,1723,1724,1725,1726,1727,1728,1729,1730,1731,1732,1733,1734,1735,1736,1737,1738,1739,1740,1741,1742,1743,1744,1745,1746,1747,1748,1749,1750,1751,1752,1753,1754,1755,1756,1757,1758,1759,1760,1761,1762,1763,1764,1765,1766,1767,1768,1769,1770,1771,1772,1773,1774,1775,1776,1777,1778,1779,1780,1781,1782,1783,1784,1785,1786,1787,1788,1789,1790,1791,1792,1793,1794,1795,1796,1797,1798,1799,1800,1801,1802,1803,1804,1805,1806,1807,1808,1809,1810,1811,1812,1813,1814,1815,1816,1817,1818,1819,1820,1821,1822,1823,1824,1825,1826,1827,1828,1829,1830,1831,1832,1833,1834,1835,1836,1837,1838,1839,1840,1841,1842,1843,1844,1845,1846,1847,1848,1849,1850,1851,1852,1853,1854,1855,1856,1857,1858,1859,1860,1861,1862,1863,1864,1865,1866,1867,1868,1869,1870,1871,1872,1873,1874,1875,1876,1877,1878,1879,1880,1881,1882,1883,1884,1885,1886,1887,1888,1889,1890,1891,1892,1893,1894,1895,1896,1897,1898,1899,1900,1901,1902,1903,1904,1905,1906,1907,1908,1909,1910,1911,1912,1913,1914,1915,1916,1917,1918,1919,1920,1921,1922,1923,1924,1925,1926,1927,1928,1929,1930,1931,1932,1933,1934,1935,1936,1937,1938,1939,1940,1941,1942,1943,1944,1945,1946,1947,1948,1949,1950,1951,1952,1953,1954,1955,1956,1957,1958,1959,1960,1961,1962,1963,1964,1965,1966,1967,1968,1969,1970,1971,1972,1973,1974,1975,1976,1977,1978,1979,1980,1981,1982,1983,1984,1985,1986,1987,1988,1989,1990,1991,1992,1993,1994,1995,1996,1997,1998,1999,2000,2001,2002,2003,2004,2005,2006,2007,2008,2009,2010,2011,2012,2013,2014,2015,2016,2017,2018,2019,2020,2021,2022,2023,2024,2025,2026,2027,2028,2029,2030,2031,2032,2033,2034,2035,2036,2037,2038,2039,2040,2041,2042,2043,2044,2045,2046,2047,2048,2049,2050,2051,2052,2053,2054,2055,2056,2057,2058,2059,2060,2061,2062,2063,2064,2065,2066,2067,2068,2069,2070,2071,2072,2073,2074,2075,2076,2077,2078,2079,2080,2081,2082,2083,2084,2085,2086,2087,2088,2089,2090,2091,2092,2093,2094,2095,2096,2097,2098,2099,2100,2101,2102,2103,2104,2105,2106,2107,2108,2109,2110,2111,2112,2113,2114,2115,2116,2117,2118,2119,2120,2121,2122,2123,2124,2125,2126,2127,2128,2129,2130,2131,2132,2133,2134,2135,2136,2137,2138,2139,2140,2141,2142,2143,2144,2145,2146,2147,2148,2149,2150,2151,2152,2153,2154,2155,2156,2157,2158,2159,2160,2161,2162,2163,2164,2165,2166,2167,2168,2169,2170,2171,2172,2173,2174,2175,2176,2177,2178,2179,2180,2181,2182,2183,2184,2185,2186,2187,2188,2189,2190,2191,2192,2193,2194,2195,2196,2197,2198,2199,2200,2201,2202,2203,2204,2205,2206,2207,2208,2209,2210,2211,2212,2213,2214,2215,2216,2217,2218,2219,2220,2221,2222,2223,2224,2225,2226,2227,2228,2229,2230,2231,2232,2233,2234,2235,2236,2237,2238,2239,2240,2241,2242,2243,2244,2245,2246,2247,2248,2249,2250,2251,2252,2253,2254,2255,2256,2257,2258,2259,2260,2261,2262,2263,2264,2265,2266,2267,2268,2269,2270,2271,2272,2273,2274,2275,2276,2277,2278,2279,2280,2281,2282,2283,2284,2285,2286,2287,2288,2289,2290,2291,2292,2293,2294,2295,2296,2297,2298,2299,2300,2301,2302,2303,2304,2305,2306,2307,2308,2309,2310,2311,2312,2313,2314,2315,2316,2317,2318,2319,2320,2321,2322,2323,2324,2325,2326,2327,2328,2329,2330,2331,2332,2333,2334,2335,2336,2337,2338,2339,2340,2341,2342,2343,2344,2345,2346,2347,2348,2349,2350,2351,2352,2353,2354,2355,2356,2357,2358,2359,2360,2361,2362,2363,2364,2365,2366,2367,2368,2369,2370,2371,2372,2373,2374,2375,2376,2377,2378,2379,2380,2381,2382,2383,2384,2385,2386,2387,2388,2389,2390,2391,2392,2393,2394,2395,2396,2397,2398,2399,2400,2401,2402,2403,2404,2405,2406,2407,2408,2409,2410,2411,2412,2413,2414,2415,2416,2417,2418,2419,2420,2421,2422,2423,2424,2425,2426,2427,2428,2429,2430,2431,2432,2433,2434,2435,2436,2437,2438,2439,2440,2441,2442,2443,2444,2445,2446,2447,2448,2449,2450,2451,2452,2453,2454,2455,2456,2457,2458,2459,2460,2461,2462,2463,2464,2465,2466,2467,2468,2469,2470,2471,2472,2473,2474,2475,2476,2477,2478,2479,2480,2481,2482,2483,2484,2485,2486,2487,2488,2489,2490,2491,2492,2493,2494,2495,2496,2497,2498,2499,2500,2501,2502,2503,2504,2505,2506,2507,2508,2509,2510,2511,2512,2513,2514,2515,2516,2517,2518,2519,2520,2521,2522,2523,2524,2525,2526,2527,2528,2529,2530,2531,2532,2533,2534,2535,2536,2537,2538,2539,2540,2541,2542,2543,2544,2545,2546,2547,2548,2549,2550,2551,2552,2553,2554,2555,2556,2557,2558,2559,2560,2561,2562,2563,2564,2565,2566,2567,2568,2569,2570,2571,2572,2573,2574,2575,2576,2577,2578,2579,2580,2581,2582,2583,2584,2585,2586,2587,2588,2589,2590,2591,2592,2593,2594,2595,2596,2597,2598,2599,2600,2601,2602,2603,2604,2605,2606,2607,2608,2609,2610,2611,2612,2613,2614,2615,2616,2617,2618,2619,2620,2621,2622,2623,2624,2625,2626,2627,2628,2629,2630,2631,2632,2633,2634,2635,2636,2637,2638,2639,2640,2641,2642,2643,2644,2645,2646,2647,2648,2649,2650,2651,2652,2653,2654,2655,2656,2657,2658,2659,2660,2661,2662,2663,2664,2665,2666,2667,2668,2669,2670,2671,2672,2673,2674,2675,2676,2677,2678,2679,2680,2681,2682,2683,2684,2685,2686,2687,2688,2689,2690,2691,2692,2693,2694,2695,2696,2697,2698,2699,2700,2701,2702,2703,2704,2705,2706,2707,2708,2709,2710,2711,2712,2713,2714,2715,2716,2717,2718,2719,2720,2721,2722,2723,2724,2725,2726,2727,2728,2729,2730,2731,2732,2733,2734,2735,2736,2737,2738,2739,2740,2741,2742,2743,2744,2745,2746,2747,2748,2749,2750,2751,2752,2753,2754,2755,2756,2757,2758,2759,2760,2761,2762,2763,2764,2765,2766,2767,2768,2769,2770,2771,2772,2773,2774,2775,2776,2777,2778,2779,2780,2781,2782,2783,2784,2785,2786,2787,2788,2789,2790,2791,2792,2793,2794,2795,2796,2797,2798,2799,2800,2801,2802,2803,2804,2805,2806,2807,2808,2809,2810,2811,2812,2813,2814,2815,2816,2817,2818,2819,2820,2821,2822,2823,2824,2825,2826,2827,2828,2829,2830,2831,2832,2833,2834,2835,2836,2837,2838,2839,2840,2841,2842,2843,2844,2845,2846,2847,2848,2849,2850,2851,2852,2853,2854,2855,2856,2857,2858,2859,2860,2861,2862,2863,2864,2865,2866,2867,2868,2869,2870,2871,2872,2873,2874,2875,2876,2877,2878,2879,2880,2881,2882,2883,2884,2885,2886,2887,2888,2889,2890,2891,2892,2893,2894,2895,2896,2897,2898,2899,2900,2901,2902,2903,2904,2905,2906,2907,2908,2909,2910,2911,2912,2913,2914,2915,2916,2917,2918,2919,2920,2921,2922,2923,2924,2925,2926,2927,2928,2929,2930,2931,2932,2933,2934,2935,2936,2937,2938,2939,2940,2941,2942,2943,2944,2945,2946,2947,2948,2949,2950,2951,2952,2953,2954,2955,2956,2957,2958,2959,2960,2961,2962,2963,2964,2965,2966,2967,2968,2969,2970,2971,2972,2973,2974,2975,2976,2977,2978,2979,2980,2981,2982,2983,2984,2985,2986,2987,2988,2989,2990,2991,2992,2993,2994,2995,2996,2997,2998,2999,3000,3001,3002,3003,3004,3005,3006,3007,3008,3009,3010,3011,3012,3013,3014,3015,3016,3017,3018,3019,3020,3021,3022,3023,3024,3025,3026,3027,3028,3029,3030,3031,3032,3033,3034,3035,3036,3037,3038,3039,3040,3041,3042,3043,3044,3045,3046,3047,3048,3049,3050,3051,3052,3053,3054,3055,3056,3057,3058,3059,3060,3061,3062,3063,3064,3065,3066,3067,3068,3069,3070,3071,3072,3073,3074,3075,3076,3077,3078,3079,3080,3081,3082,3083,3084,3085,3086,3087,3088,3089,3090,3091,3092,3093,3094,3095,3096,3097,3098,3099,3100,3101,3102,3103,3104,3105,3106,3107,3108,3109,3110,3111,3112,3113,3114,3115,3116,3117,3118,3119,3120,3121,3122,3123,3124,3125,3126,3127,3128,3129,3130,3131,3132,3133,3134,3135,3136,3137,3138,3139,3140,3141,3142,3143,3144,3145,3146,3147,3148,3149,3150,3151,3152,3153,3154,3155,3156,3157,3158,3159,3160,3161,3162,3163,3164,3165,3166,3167,3168,3169,3170,3171,3172,3173,3174,3175,3176,3177,3178,3179,3180,3181,3182,3183,3184,3185,3186,3187,3188,3189,3190,3191,3192,3193,3194,3195,3196,3197,3198,3199,3200,3201,3202,3203,3204,3205,3206,3207,3208,3209,3210,3211,3212,3213,3214,3215,3216,3217,3218,3219,3220,3221,3222,3223,3224,3225,3226,3227,3228,3229,3230,3231,3232,3233,3234,3235,3236,3237,3238,3239,3240,3241,3242,3243,3244,3245,3246,3247,3248,3249,3250,3251,3252,3253,3254,3255,3256,3257,3258,3259,3260,3261,3262,3263,3264,3265,3266,3267,3268,3269,3270,3271,3272,3273,3274,3275,3276,3277,3278,3279,3280,3281,3282,3283,3284,3285,3286,3287,3288,3289,3290,3291,3292,3293,3294,3295,3296,3297,3298,3299,3300,3301,3302,3303,3304,3305,3306,3307,3308,3309,3310,3311,3312,3313,3314,3315,3316,3317,3318,3319,3320,3321,3322,3323,3324,3325,3326,3327,3328,3329,3330,3331,3332,3333,3334,3335,3336,3337,3338,3339,3340,3341,3342,3343,3344,3345,3346,3347,3348,3349,3350,3351,3352,3353,3354,3355,3356,3357,3358,3359,3360,3361,3362,3363,3364,3365,3366,3367,3368,3369,3370,3371,3372,3373,3374,3375,3376,3377,3378,3379,3380,3381,3382,3383,3384,3385,3386,3387,3388,3389,3390,3391,3392,3393,3394,3395,3396,3397,3398,3399,3400,3401,3402,3403,3404,3405,3406,3407,3408,3409,3410,3411,3412,3413,3414,3415,3416,3417,3418,3419,3420,3421,3422,3423,3424,3425,3426,3427,3428,3429,3430,3431,3432,3433,3434,3435,3436,3437,3438,3439,3440,3441,3442,3443,3444,3445,3446,3447,3448,3449,3450,3451,3452,3453,3454,3455,3456,3457,3458,3459,3460,3461,3462,3463,3464,3465,3466,3467,3468,3469,3470,3471,3472,3473,3474,3475,3476,3477,3478,3479,3480,3481,3482,3483,3484,3485,3486,3487,3488,3489,3490,3491,3492,3493,3494,3495,3496,3497,3498,3499,3500,3501,3502,3503,3504,3505,3506,3507,3508,3509,3510,3511,3512,3513,3514,3515,3516,3517,3518,3519,3520,3521,3522,3523,3524,3525,3526,3527,3528,3529,3530,3531,3532,3533,3534,3535,3536,3537,3538,3539,3540,3541,3542,3543,3544,3545,3546,3547,3548,3549,3550,3551,3552,3553,3554,3555,3556,3557,3558,3559,3560,3561,3562,3563,3564,3565,3566,3567,3568,3569,3570,3571,3572,3573,3574,3575,3576,3577,3578,3579,3580,3581,3582,3583,3584,3585,3586,3587,3588,3589,3590,3591,3592,3593,3594,3595,3596,3597,3598,3599,3600,3601,3602,3603,3604,3605,3606,3607,3608,3609,3610,3611,3612,3613,3614,3615,3616,3617,3618,3619,3620,3621,3622,3623,3624,3625,3626,3627,3628,3629,3630,3631,3632,3633,3634,3635,3636,3637,3638,3639,3640,3641,3642,3643,3644,3645,3646,3647,3648,3649,3650,3651,3652,3653,3654,3655,3656,3657,3658,3659,3660,3661,3662,3663,3664,3665,3666,3667,3668,3669,3670,3671,3672,3673,3674,3675,3676,3677,3678,3679,3680,3681,3682,3683,3684,3685,3686,3687,3688,3689,3690,3691,3692,3693,3694,3695,3696,3697,3698,3699,3700,3701,3702,3703,3704,3705,3706,3707,3708,3709,3710,3711,3712,3713,3714,3715,3716,3717,3718,3719,3720,3721,3722,3723,3724,3725,3726,3727,3728,3729,3730,3731,3732,3733,3734,3735,3736,3737,3738,3739,3740,3741,3742,3743,3744,3745,3746,3747,3748,3749,3750,3751,3752,3753,3754,3755,3756,3757,3758,3759,3760,3761,3762,3763,3764,3765,3766,3767,3768,3769,3770,3771,3772,3773,3774,3775,3776,3777,3778,3779,3780,3781,3782,3783,3784,3785,3786,3787,3788,3789,3790,3791,3792,3793,3794,3795,3796,3797,3798,3799,3800,3801,3802,3803,3804,3805,3806,3807,3808,3809,3810,3811,3812,3813,3814,3815,3816,3817,3818,3819,3820,3821,3822,3823,3824,3825,3826,3827,3828,3829,3830,3831,3832,3833,3834,3835,3836,3837,3838,3839,3840,3841,3842,3843,3844,3845,3846,3847,3848,3849,3850,3851,3852,3853,3854,3855,3856,3857,3858,3859,3860,3861,3862,3863,3864,3865,3866,3867,3868,3869,3870,3871,3872,3873,3874,3875,3876,3877,3878,3879,3880,3881,3882,3883,3884,3885,3886,3887,3888,3889,3890,3891,3892,3893,3894,3895,3896,3897,3898,3899,3900,3901,3902,3903,3904,3905,3906,3907,3908,3909,3910,3911,3912,3913,3914,3915,3916,3917,3918,3919,3920,3921,3922,3923,3924,3925,3926,3927,3928,3929,3930,3931,3932,3933,3934,3935,3936,3937,3938,3939,3940,3941,3942,3943,3944,3945,3946,3947,3948,3949,3950,3951,3952,3953,3954,3955,3956,3957,3958,3959,3960,3961,3962,3963,3964,3965,3966,3967,3968,3969,3970,3971,3972,3973,3974,3975,3976,3977,3978,3979,3980,3981,3982,3983,3984,3985,3986,3987,3988,3989,3990,3991,3992,3993,3994,3995,3996,3997,3998,3999],\"words\":[\"stock\",\"raining\",\"todays\",\"showered\",\"whoops\",\"personally\",\"yellow\",\"reboot\",\"yikes\",\"know\",\"woods\",\"sleep\",\"spiders\",\"friend's\",\"hanging\",\"6pm\",\"appetite\",\"tonight's\",\"poorly\",\"stinks\",\"feeding\",\"buddy\",\"electricity\",\"tweet\",\"james\",\"closet\",\"skipping\",\"neighbours\",\"bike\",\"voted\",\"under\",\"teaching\",\"sorry\",\"pride\",\"sway\",\"worth\",\"shaving\",\"updated\",\"lack\",\"rescue\",\"blanket\",\"dutch\",\"penny\",\"shoot\",\"stolen\",\"every\",\"blisters\",\"messy\",\"kick\",\"jacob\",\"bringing\",\"tickets\",\"four\",\"school\",\"croissant\",\"bestfriend\",\"prize\",\"errands\",\"skills\",\"venue\",\"wednesday\",\"oooo\",\"math\",\"oooh\",\"yesterday's\",\"settings\",\"ups\",\"9pm\",\"enjoy\",\"10k\",\"force\",\"tired\",\"phones\",\"europe\",\"hating\",\"bacon\",\"direct\",\"batch\",\"nail\",\"talks\",\"likely\",\"street\",\"eurovision\",\"7th\",\"arms\",\"chem\",\"panda\",\"quite\",\"shining\",\"blue\",\"mega\",\"everyones\",\"hide\",\"wreck\",\"thunder\",\"+\",\"cooking\",\"fingers\",\"children\",\"lights\",\"above\",\"snowing\",\"new\",\"net\",\"hmmm\",\"officially\",\"unfortunate\",\"disney\",\"ouchie\",\"mee\",\"drinkin\",\"gota\",\"hero\",\"curry\",\"pancakes\",\"join\",\"men\",\"meh\",\"drew\",\"met\",\"china\",\"dorm\",\"100\",\"aren't\",\"celebration\",\"dry\",\"hulu\",\"kids\",\"daughter\",\"hunting\",\"forum\",\"attending\",\"items\",\"leaves\",\"changed\",\"piercing\",\"aku\",\"ignoring\",\"itunes\",\"tv\",\"jogging\",\"i'd\",\"ako\",\"loop\",\"smoke\",\"stressed\",\"surely\",\"i'm\",\"someone's\",\"settled\",\"bbq\",\"eyebrows\",\"golden\",\"fantastic\",\"stray\",\"xbox\",\"fireworks\",\"eugh\",\"feelings\",\"bro\",\"wars\",\"txt\",\"bt\",\"unit\",\"theory\",\"sarah\",\"lecture\",\"spoke\",\"would\",\"army\",\"carpet\",\"hospital\",\"hungry\",\"aus\",\"princess\",\"dnt\",\"asses\",\"edward\",\"music\",\"comcast\",\"centre\",\"unfortunately\",\"strike\",\"survive\",\"tryin\",\"type\",\"tell\",\"breathe\",\"effin\",\"sushi\",\"paperwork\",\"posting\",\"holy\",\"relax\",\"successful\",\"brings\",\"hols\",\"yahoo\",\"hurt\",\"glass\",\"berlin\",\"warm\",\"adult\",\"loose\",\"excellent\",\"90\",\"hole\",\"hold\",\"95\",\"blocking\",\"tampa\",\"must\",\"listenin\",\"md\",\"club\",\"bunnies\",\"locked\",\"room\",\"err\",\"jess\",\"mm\",\"mo\",\"cousins\",\"mi\",\"roof\",\"regrets\",\"mu\",\"movies\",\"cuddle\",\"ms\",\"mr\",\"elbow\",\"root\",\"route\",\"addictive\",\"vodka\",\"wana\",\"goood\",\"gettin\",\"give\",\"florida\",\"india\",\"stressing\",\"early\",\"foods\",\"homie\",\"want\",\"keep\",\"absolute\",\"ceremony\",\"audition\",\"sats\",\"end\",\"recovery\",\"thing\",\"hon\",\"agony\",\"travel\",\"returning\",\"nuts\",\"damage\",\"machine\",\"how\",\"amazing\",\"aching\",\"front\",\"interview\",\"place\",\"fudge\",\"charging\",\"wolfram\",\"badly\",\"untill\",\"fever\",\"beauty\",\"aches\",\"bday\",\"earlier\",\"confirmed\",\"lab\",\"wrong\",\"lay\",\"tidying\",\"law\",\"lap\",\"bucks\",\"purchase\",\"lastnight\",\"attempt\",\"third\",\"chillen\",\"wins\",\"appreciate\",\"greet\",\"childhood\",\"greek\",\"hmph\",\"18th\",\"green\",\"goodbye\",\"keeps\",\"aloud\",\"fan\",\"1000\",\"make\",\"wind\",\"wine\",\"__\",\"tooooo\",\"salon\",\"afterwards\",\"bestie\",\"office\",\"wut\",\"muffin\",\"using\",\"fam\",\"choose\",\"fab\",\"sunshine\",\"thesis\",\"wud\",\"kong\",\"japan\",\"brutal\",\"lightning\",\"before\",\"ima\",\"fit\",\"personal\",\"screaming\",\"fix\",\"denver\",\"crew\",\"better\",\"production\",\"rly\",\"400\",\"imy\",\"wales\",\"hidden\",\"easier\",\"belly\",\"then\",\"coffee\",\"woken\",\"combination\",\"sneezing\",\"thee\",\"safe\",\"runny\",\"break\",\"band\",\"twits\",\"effects\",\"they\",\"focus\",\"schools\",\"17th\",\"blink\",\"rental\",\"silver\",\"saddened\",\"bread\",\"grey's\",\"alex\",\"meat\",\"sleepless\",\"ewwww\",\"l\",\"detroit\",\"rocks\",\"explode\",\"good\",\"charged\",\"ya\",\"roast\",\"each\",\"addicted\",\"acoustic\",\"feeds\",\"european\",\"meal\",\"bone\",\"luck\",\"signing\",\"stressful\",\"adobe\",\"gunna\",\"series\",\"train\",\"spider\",\"skins\",\"carry\",\"reader\",\"forgot\",\"2day\",\"knitting\",\"dawn\",\"saturday\",\"rt\",\"boohoo\",\"gon\",\"network\",\"driving\",\"oprah\",\"god\",\"tried\",\"mandy\",\"vibes\",\"george\",\"content\",\"re\",\"laid\",\"daniel\",\"ihop\",\"smh\",\"medicine\",\"surprise\",\"workout\",\"cutest\",\"you're\",\"fave\",\"revenge\",\"free\",\"solution\",\"gahhh\",\"icky\",\"struggle\",\"hoodie\",\"people's\",\"training\",\"wanted\",\"monkey\",\"dammit\",\"ate\",\"allergies\",\"recovering\",\"created\",\"bruised\",\"starts\",\"atl\",\"atm\",\"messages\",\"days\",\"7\",\"ordering\",\"heck\",\"hopeless\",\"today's\",\"soda\",\"arrived\",\"clothes\",\"loud\",\"bite\",\"fuckin\",\"purpose\",\"i'll\",\"ireland\",\"features\",\"grade\",\"coding\",\"hearing\",\"channels\",\"wash\",\"spinning\",\"warped\",\"downside\",\"another\",\"comin\",\"sober\",\"neighborhood\",\"comic\",\"plastic\",\"hood\",\"bitten\",\"basketball\",\"there's\",\"service\",\"top\",\"neck\",\"girls\",\"attack\",\"stack\",\"needed\",\"ton\",\"listed\",\"tom\",\"hollywood\",\"hiya\",\"bitter\",\"dogs\",\"listen\",\"murder\",\"hows\",\"oven\",\"tooo\",\"tool\",\"2am\",\"took\",\"rejected\",\"wisdom\",\"noodle\",\"western\",\"cereal\",\"wasted\",\"kept\",\"eps\",\"crawl\",\"eats\",\"character\",\"begins\",\"distance\",\"trek\",\"perfectly\",\"heyyy\",\"showed\",\"burger\",\"5:30\",\"mother's\",\"tree\",\"rate\",\"ebay\",\"project\",\"matter\",\"fabulous\",\"silly\",\"friend\",\"iron\",\"spoiled\",\"k\",\"feeling\",\"powers\",\"minus\",\"bridge\",\"fashion\",\"sees\",\"belive\",\"ran\",\"boston\",\"modern\",\"mind\",\"mine\",\"anybody\",\"return\",\"talking\",\"graphics\",\"stream\",\"further\",\"seen\",\"ohhhh\",\"grind\",\"tells\",\"alive\",\"gear\",\"forced\",\"strength\",\"person\",\"soaked\",\"-\",\"snow\",\"snot\",\"brandon\",\"realy\",\"chest\",\"causing\",\"derek\",\"niece\",\"doors\",\"paris\",\"yucky\",\"even\",\"exactly\",\"though\",\"bruce\",\"doin\",\"victoria\",\"anatomy\",\"owww\",\". .\",\"germany\",\"work\",\"letter\",\"revising\",\"macbook\",\"maria\",\"yankees\",\"singer\",\"episode\",\"doo\",\"cops\",\"up\",\"medical\",\"camp\",\"internship\",\"dog\",\"musical\",\"missed\",\"points\",\"aunt\",\"tha\",\"deeply\",\"haha\",\"voting\",\"scream\",\"came\",\"saying\",\"bomb\",\"tis\",\"lyrics\",\"meetings\",\"random\",\"caffeine\",\"prix\",\"d:\",\"nephew\",\"tempted\",\"probs\",\"lessons\",\"busy\",\"clicked\",\"just\",\"menu\",\"weekends\",\"hrs\",\"sugar\",\"here\",\"theme\",\"both\",\"bliss\",\"rick\",\"rich\",\"folks\",\"abt\",\"rice\",\"laptop\",\"wearing\",\"geez\",\"sms\",\"dj\",\"dk\",\"dh\",\"di\",\"sleepy\",\"dd\",\"de\",\"stop\",\"dc\",\"da\",\"geek\",\"amazon\",\"12\",\"anxious\",\"wedding\",\"report\",\"ben\",\"nasty\",\"dr\",\"nurse\",\"layout\",\"runs\",\"bar\",\"%\",\"die\",\"noon\",\"goodbyes\",\"ever\",\"emo\",\"hello\",\"shouldnt\",\"patch\",\"twice\",\"bad\",\"gears\",\"shots\",\"ballard\",\"grilled\",\"told\",\"\\ufffd\",\"effing\",\"bah\",\"ears\",\"respond\",\"blew\",\":\",\"disaster\",\"fair\",\"habit\",\"generally\",\"nut\",\"testing\",\"resist\",\"goodnight\",\"toes\",\"result\",\"steal\",\"fail\",\"disturbing\",\"o_o\",\"noodles\",\"bleh\",\"best\",\"juliet\",\"pete\",\"00\",\"said\",\"onto\",\"lots\",\"away\",\"09\",\"grandmother\",\"mug\",\"score\",\"irl\",\"finger\",\"hopefully\",\"mum\",\"pirate\",\"360\",\"shud\",\"letting\",\"we\",\"never\",\"omg\",\"nature\",\"lover\",\"wk\",\"however\",\"lotion\",\"nightmares\",\"loading\",\"wear\",\"wtf\",\"poisoning\",\"wth\",\"cousin\",\"picking\",\"sophie\",\"kitchen\",\"pity\",\"cop\",\"cos\",\"accident\",\"cow\",\"fault\",\"ill\",\"coz\",\"heating\",\"against\",\"damned\",\"players\",\"games\",\"planned\",\"lookin\",\"hated\",\"studio\",\"requests\",\"browser\",\"com\",\"asked\",\"jack\",\"ily\",\"twitterverse\",\"and\",\"tough\",\"1.5\",\"legs\",\"waaay\",\"2nd\",\"active\",\"tons\",\"massive\",\"tony\",\"diff\",\"blonde\",\"trust\",\"san\",\"conference\",\"bathroom\",\"iraq\",\"seein\",\"puts\",\"ooooh\",\"chrome\",\"noes\",\"fri\",\"haz\",\"frm\",\".\",\"sleepover\",\"much\",\"stadium\",\"expected\",\"fry\",\"lovely\",\"topics\",\"idol\",\"board\",\"website\",\"life\",\"soooooo\",\"relaxing\",\"attacked\",\"housewives\",\"xxx\",\"sooooo\",\"dave\",\"lift\",\"child\",\"catch\",\"bunny\",\"worked\",\"sad\",\"chill\",\"applied\",\"has\",\"tank\",\"woah\",\"say\",\"kentucky\",\"n\",\"aim\",\"ugly\",\"near\",\"gna\",\"suppose\",\"teachers\",\"b-day\",\"pooped\",\"religion\",\"cracked\",\"voice\",\"study\",\"chilling\",\"rent\",\"upgrade\",\"seven\",\"iz\",\"played\",\"is\",\"dumped\",\"it\",\"agenda\",\"iv\",\"ii\",\"need\",\"cant\",\"dizzy\",\"im\",\"il\",\"uncle\",\"in\",\"dallas\",\"shift\",\"ie\",\"id\",\"if\",\"h\",\"walkin\",\"hong\",\"thingy\",\"arse\",\"credit\",\"perform\",\"gr8\",\"realizing\",\"toaster\",\"shipwrecked\",\"bella\",\"any\",\"split\",\"babies\",\"big\",\"thoughts\",\"several\",\"hahaa\",\"couple\",\"advertising\",\"wheel\",\"baking\",\"sittin\",\"nin\",\"downloaded\",\"social\",\"hang\",\"coachella\",\"evil\",\"hand\",\"heartbroken\",\"fridays\",\"kim\",\"would've\",\"jealous\",\"500\",\"aka\",\"tune\",\"kid\",\"butter\",\"shortly\",\"lucas\",\"kicked\",\"thx\",\"changes\",\"tht\",\"itself\",\"game\",\"ocean\",\"tho\",\"burgers\",\"client\",\"greatest\",\"mother\",\"hearts\",\"the\",\"yours\",\"dads\",\"left\",\"hyper\",\"yeh\",\"bugger\",\"she'll\",\"sleeps\",\"yea\",\"photo\",\"unfollow\",\"bruise\",\"greys\",\"ideas\",\"yey\",\"grades\",\"psych\",\"thanks\",\"human\",\"dreamt\",\"yep\",\"yes\",\"yer\",\"yet\",\"previous\",\"hah\",\"hills\",\"cherry\",\"royal\",\"hay\",\"shout\",\"spread\",\"ok\",\"innocent\",\"prison\",\"mann\",\"save\",\"hat\",\"hav\",\"gave\",\"shoulder\",\"which\",\"bands\",\"breaks\",\"possible\",\"caps\",\"tmrw\",\"possibly\",\"boxes\",\"bastards\",\"3pm\",\"background\",\"newcastle\",\"cape\",\"replace\",\"burnt\",\"dreams\",\"apart\",\"twitterfon\",\"county\",\"quickly\",\"gift\",\"texts\",\"footy\",\"lily\",\"xp\",\"hunt\",\"orlando\",\"alice\",\"steph\",\"glasgow\",\"avatar\",\"zombies\",\"night\",\"hung\",\"security\",\"overslept\",\"performing\",\"old\",\"ole\",\"deal\",\"people\",\"understand\",\"easy\",\"somehow\",\"lucky\",\"loooong\",\"born\",\"sure\",\"neva\",\"escape\",\"dear\",\"guess\",\"tutorial\",\"confusing\",\"cnt\",\"total\",\"for\",\"bottom\",\"purple\",\"ear\",\"normal\",\"fox\",\"comments\",\"creative\",\"filming\",\"asking\",\"fob\",\"umm\",\"3:30\",\"beating\",\"adorable\",\"drink\",\"ict\",\"core\",\"columbus\",\"sewing\",\"pls\",\"deleted\",\"camper\",\"corn\",\"burn\",\"plz\",\"disappeared\",\"paid\",\"graduated\",\"post\",\"super\",\"chapter\",\"=d\",\"diner\",\"eat\",\"attacks\",\"dollars\",\"months\",\"lmfao\",\"o\",\"dinner\",\"visa\",\"plus\",\"afternoon\",\"stoked\",\"connected\",\"nooooooo\",\"slightly\",\"tonights\",\"match\",\"this\",\"aha\",\"whats\",\"froze\",\"lied\",\"wasting\",\"ahh\",\"bound\",\"soo\",\"bath\",\"down\",\"thankful\",\"explain\",\"soy\",\"amsterdam\",\"soz\",\"soon\",\"highschool\",\"parade\",\"ahhhh\",\"east\",\"tips\",\"crowd\",\"wah\",\"lake\",\"support\",\"flying\",\"knowing\",\"tat\",\"fight\",\"gig\",\"virgin\",\"wordpress\",\"way\",\"spring\",\"sniffles\",\"call\",\"wat\",\"was\",\"war\",\"happy\",\"head\",\"washed\",\"form\",\"offer\",\"some\",\"heal\",\"paypal\",\"forever\",\"ford\",\"wireless\",\"failure\",\"heat\",\"hear\",\"dead\",\"stand\",\"true\",\"reset\",\"others\",\"preview\",\"lens\",\"happen\",\"whyy\",\"assessment\",\"layin\",\"dollhouse\",\"trash\",\"ruined\",\"origins\",\"smashed\",\"mighty\",\"daddy\",\"delete\",\"150\",\"rc\",\"later\",\"hotter\",\"3.0\",\"classic\",\"request\",\"tournament\",\"avoiding\",\"sticky\",\"sometime\",\"exist\",\"promised\",\"prayer\",\"accounting\",\"awhile\",\"annoying\",\"check\",\"shit\",\"physical\",\"nh\",\"marking\",\"tix\",\"dying\",\"no\",\"na\",\"commercials\",\"nc\",\"when\",\"ne\",\"handed\",\"ng\",\"til\",\"ny\",\"nz\",\"setting\",\"role\",\"whew\",\"holding\",\"papers\",\"test\",\"hangin\",\"nt\",\"roll\",\"nw\",\"scored\",\"picture\",\"brothers\",\"phoenix\",\"dies\",\"football\",\"stealing\",\"update\",\"diet\",\"unwell\",\"let's\",\"journey\",\"scores\",\"rolling\",\"weekend\",\"died\",\"babysitting\",\"billion\",\"nxt\",\"younger\",\"tweeting\",\"rabbit\",\"faster\",\"marathon\",\"potato\",\"painting\",\"grading\",\"memorial\",\"together\",\"jacket\",\"broadband\",\"rough\",\"reception\",\"teeth\",\"push\",\"serious\",\"surprised\",\"updates\",\"songs\",\"wanting\",\"osx\",\"concept\",\"managed\",\"0\",\"chain\",\"whoever\",\"hangovers\",\"skip\",\"rob\",\"global\",\"ouch\",\"hawaii\",\"known\",\"manager\",\"mile\",\"ice\",\"::\",\"skin\",\"battle\",\"shot\",\"chair\",\"involved\",\"milk\",\"row\",\"ballet\",\"yummy\",\"somthing\",\"zone\",\"everything\",\"flash\",\"father\",\"pen\",\"gigs\",\"answered\",\"charge\",\"knackered\",\"marks\",\"sing\",\"ride\",\"me\",\"downloading\",\"icing\",\"jerk\",\"hannah\",\"than\",\"none\",\"mums\",\"choice\",\":|\",\"gloomy\",\"stays\",\"cook\",\"ma\",\"trouble\",\"blast\",\"exact\",\"minute\",\"cool\",\"din\",\"epic\",\"clouds\",\"went\",\"gud\",\"tear\",\"turns\",\"philippines\",\"dig\",\"posts\",\"gun\",\"gum\",\"leave\",\"p\",\"soooo\",\"settle\",\"subway\",\"team\",\"quick\",\"movie\",\"guy\",\"son's\",\"bio\",\"round\",\"added\",\"it'll\",\"shave\",\"pork\",\"unexpected\",\"says\",\"rents\",\"porn\",\"dealing\",\"sign\",\"cost\",\"shirts\",\"arm\",\"prom\",\"patient\",\"migraines\",\"bake\",\"port\",\"irritated\",\"curse\",\"arvo\",\"appear\",\"rome\",\"current\",\"300\",\"goes\",\"marketing\",\"international\",\"falling\",\"geography\",\"filled\",\"gawd\",\"jury\",\"install\",\"grandparents\",\"funeral\",\"makeup\",\"fest\",\"french\",\"water\",\"2:30\",\"2morrow\",\"baseball\",\"address\",\"hadn't\",\"[\",\"because\",\"teacher\",\"change\",\"wait\",\"box\",\"sending\",\"canadian\",\"brilliant\",\"my\",\"bruises\",\"mumbai\",\"guilty\",\"lakers\",\"example\",\"queue\",\"trial\",\"women\",\"exams\",\"ughhh\",\"boo\",\"usually\",\"bob\",\"studies\",\"pillow\",\"montreal\",\"love\",\"extra\",\"saints\",\"prefer\",\"ipl\",\"bloody\",\"losing\",\"1st\",\"market\",\"sky\",\"sweating\",\"buttons\",\"working\",\"homesick\",\"sake\",\"positive\",\"angry\",\"scan\",\"visit\",\"tears\",\"sports\",\"msn\",\"live\",\"going\",\"andy\",\"iphone\",\"wondering\",\"ahhh\",\"msg\",\"thru\",\"angels\",\"prep\",\"today\",\"wicked\",\"scratched\",\"plug\",\"sharing\",\"threw\",\"afford\",\"suggestions\",\"ooo\",\"ooh\",\"chocolate\",\"downtown\",\"everywhere\",\"far\",\"cases\",\"effort\",\"piano\",\"earth\",\"fly\",\"honey\",\"graphic\",\"anything\",\"pushed\",\"car\",\"flu\",\"soul\",\"london\",\"cat\",\"reviews\",\"wallet\",\"hardest\",\"printing\",\"can\",\"cam\",\"following\",\"making\",\"arrive\",\"bites\",\"ribs\",\"feature\",\"nearest\",\"crazy\",\"nursing\",\"figure\",\":]\",\"december\",\"chip\",\"bust\",\"didn't\",\"fuck\",\"blogging\",\"soup\",\"topic\",\"7pm\",\"arghhhh\",\"chin\",\"dropped\",\"allowed\",\"workin\",\"counting\",\"stole\",\"wayyyy\",\"painkillers\",\"pink\",\"awwww\",\"productive\",\"winter\",\"steve\",\"means\",\"mike\",\"magazine\",\"lounge\",\"till\",\"sunday\",\"vancouver\",\"actual\",\"pure\",\"sighs\",\"nyc\",\"youth\",\"photography\",\"films\",\"economy\",\"edinburgh\",\"product\",\"leavin\",\"laundry\",\"140\",\"information\",\"may\",\"max\",\"snl\",\"sour\",\"spot\",\"needs\",\"awwh\",\"applications\",\"mac\",\"4th\",\"mad\",\"mag\",\"date\",\"mah\",\"suck\",\"data\",\"grow\",\"man\",\"stress\",\"surfing\",\"natural\",\"remember\",\"whenever\",\"maybe\",\"simple\",\"bean\",\"st\",\"q\",\"si\",\"sh\",\"so\",\"block\",\"swollen\",\"sc\",\"tall\",\"sa\",\"pulled\",\"sf\",\"talk\",\"sd\",\"drunken\",\"cute\",\"comfort\",\"shoes\",\"repair\",\"colds\",\"haircut\",\"wishing\",\"characters\",\"years\",\"<\",\"ended\",\"episodes\",\"sob\",\"cuts\",\"cold\",\"still\",\"birds\",\"blocked\",\"dreading\",\"gta\",\"group\",\"thumb\",\"he's\",\"interesting\",\"torn\",\"troubles\",\"hot\",\"=(\",\"he'd\",\"napping\",\"window\",\"according\",\"kardashians\",\"thanx\",\"tweets\",\"mail\",\"tomorow\",\"main\",\"norway\",\"mommy\",\"texas\",\"happened\",\"non\",\"noo\",\"emailed\",\"hop\",\"3\",\"moms\",\"chelsea\",\"bein\",\"killer\",\"insomnia\",\"sooner\",\"feelin\",\"lunch\",\"srsly\",\"tommorrow\",\"course\",\"safari\",\"half\",\"not\",\"sorted\",\"now\",\"ahaha\",\"\\\\\",\"nor\",\"josh\",\"wont\",\"term\",\"name\",\"lies\",\"opera\",\"beach\",\"didn\",\"debating\",\"realise\",\"bowling\",\"photoshoot\",\"concerts\",\"reminds\",\"em\",\"el\",\"domain\",\"en\",\"eh\",\"mexico\",\"hiccups\",\"ed\",\"yeah\",\"cardiff\",\"catching\",\"farewell\",\"ex\",\"year\",\"eu\",\"ew\",\"morning\",\"ep\",\"er\",\"album\",\"living\",\"jackson\",\"twitterland\",\"3rd\",\"space\",\"cycle\",\"sunburnt\",\"factory\",\"looking\",\"mess\",\"seriously\",\"stupid\",\"shouldn't\",\"hacked\",\"internet\",\"correct\",\"shows\",\"after\",\"unemployed\",\"monster\",\"state\",\"cars\",\"million\",\"20\",\"argh\",\"complicated\",\"besides\",\"grandma\",\"gots\",\"___\",\"cough\",\"inevitable\",\"card\",\"care\",\"gah\",\"language\",\"deck\",\"yup\",\"h1n1\",\"headphones\",\"british\",\"honest\",\"turn\",\"yuk\",\"fc\",\"yum\",\"gordon\",\"swing\",\"yest\",\"star\",\"think\",\"waited\",\"first\",\"blind\",\"cheese\",\"tennis\",\"saving\",\"xo\",\"grrrrr\",\"spoken\",\"xoxo\",\"rachel\",\"potter\",\"doh\",\"xd\",\"one\",\"m's\",\"xx\",\":@\",\"fast\",\"suspended\",\"spanish\",\"vote\",\"impossible\",\"ring\",\"drove\",\"pokemon\",\"tomorrow\",\"size\",\"iam\",\"city\",\"given\",\"checked\",\"silent\",\"quality\",\"stuck\",\"caught\",\"slept\",\"cook's\",\"t\",\"anyone\",\"download\",\"returns\",\"2\",\"stuffed\",\"typing\",\"white\",\"bits\",\"heartburn\",\"speaking\",\"gives\",\"eyes\",\"hug\",\"hayfever\",\"mostly\",\"that\",\"brains\",\"hun\",\"universe\",\"huh\",\"released\",\"alas\",\"butt\",\"eliminated\",\"copy\",\"message\",\"here's\",\"boyfriend\",\"11\",\"10\",\"13\",\"bored\",\"15\",\"lmao\",\"17\",\"16\",\"depressed\",\"18\",\"gotta\",\"chicago\",\"future\",\"bag\",\"were\",\"cards\",\"college\",\"havnt\",\"dissapointed\",\"anyways\",\"pre\",\"ang\",\"tasted\",\"angel\",\"sac\",\"wknd\",\"pro\",\"premier\",\"turned\",\"boooo\",\"bugs\",\"already\",\"tastes\",\"mates\",\"...  ...\",\"volleyball\",\"tylenol\",\"allen\",\"breakfast\",\"recover\",\"saw\",\"calendar\",\"kevin\",\"sat\",\"coach\",\"sport\",\"bailed\",\"allison\",\"advil\",\"fucking\",\"answering\",\"aside\",\"shocked\",\"zoo\",\"note\",\"omfg\",\"potential\",\"take\",\"online\",\"performance\",\"awaits\",\"becoming\",\"channel\",\"nerves\",\"200\",\"begin\",\"printer\",\"pain\",\"7am\",\"theatre\",\"opposite\",\"track\",\"price\",\"enter\",\"urgh\",\"wayy\",\"buffet\",\"falls\",\"rehearsal\",\"beta\",\"sheets\",\"connor\",\"pair\",\"knee\",\"america\",\"]\",\"pages\",\"icon\",\"michelle\",\"lawn\",\"especially\",\"considered\",\"egg\",\"removed\",\"proud\",\"drive\",\"cali\",\"mrs\",\"wore\",\"ferrari\",\"professional\",\"senior\",\"that's\",\"salt\",\"review\",\"7:30\",\"shop\",\"urge\",\"playoffs\",\"crap\",\"german\",\"cheap\",\"bin\",\"thurs\",\"discovered\",\"massage\",\"bright\",\"shoe\",\"hack\",\"corner\",\"california\",\"takin\",\"few\",\"ground\",\"aint\",\"snack\",\"favorite\",\"title\",\"daily\",\"dick\",\"storms\",\"pump\",\"crime\",\"only\",\"air\",\"black\",\"hockey\",\"shoulda\",\"wooo\",\"gaga\",\"watching\",\"dreaded\",\"over\",\"carolina\",\"get\",\"sooo\",\"jazz\",\"freezing\",\"bang\",\"truly\",\"reminded\",\"cannot\",\"negative\",\"gee\",\"progress\",\"dye\",\"awaiting\",\"brit\",\"geo\",\"celebrate\",\"freaking\",\"lame\",\"girl\",\"artist\",\"leather\",\"borrow\",\"awwwww\",\"worried\",\"naked\",\"jokes\",\"miles\",\"could've\",\"worries\",\"through\",\"finishing\",\"pants\",\"amanda\",\"inside\",\"husband\",\"crystal\",\"y'all\",\"ignored\",\"picnic\",\"concert\",\"often\",\"burst\",\"cruise\",\"mtv\",\"signs\",\"seat\",\"kyle\",\"asleep\",\"sean\",\"parking\",\"apologies\",\"surgery\",\"ur\",\"no-one\",\"wonder\",\"um\",\"fails\",\"unfair\",\"camping\",\"sleepin\",\"ways\",\"jumped\",\"cleaning\",\"sites\",\"forecast\",\"glorious\",\"enough\",\"owie\",\"john\",\"between\",\"killin\",\"reading\",\"across\",\"24\",\"notice\",\"jobs\",\"august\",\"parent\",\"25\",\"deliver\",\"screen\",\"style\",\"jr\",\"killing\",\"guitar\",\"concentrate\",\"awards\",\"hurts\",\"article\",\"tub\",\"jg\",\"come\",\"ja\",\"jb\",\"blame\",\"dates\",\"recovered\",\"cakes\",\"many\",\"1:30\",\"quiet\",\"contract\",\"called\",\"somewhere\",\"s\",\"present\",\"disappointment\",\"awkward\",\"spare\",\"share\",\"wakin\",\"can't\",\"nearby\",\"duty\",\"6\",\"madness\",\"6:30\",\"cancer\",\"twit\",\"pot\",\"jk\",\"hve\",\"period\",\"ants\",\"nooooo\",\"60\",\"poo\",\"twin\",\"64\",\"couldn't\",\"cancel\",\"freak\",\"writing\",\"nicole\",\"kelly\",\"considering\",\"late\",\"awsome\",\"cities\",\"cares\",\"west\",\"keys\",\"vacation\",\"tryna\",\"mark\",\"breath\",\"workshop\",\"ana\",\"hardly\",\"mary\",\"bullshit\",\"wants\",\"wonderful\",\"certainly\",\"shopping\",\"reaction\",\"robbed\",\"thousand\",\"andrew\",\"toronto\",\"laptops\",\"photos\",\"wake\",\"external\",\"hatin\",\"hardcore\",\"careful\",\"spirit\",\"those\",\"^\",\"case\",\"myself\",\"soccer\",\"disconnected\",\"these\",\"might\",\"cash\",\"trick\",\"cast\",\"warning\",\"pizza\",\"promising\",\"cancelled\",\"hmmmm\",\"shops\",\"taking\",\"ago\",\"ive\",\"internets\",\"j\",\"canon\",\"them\",\"sleeping\",\"pinky\",\"middle\",\"sudden\",\"clip\",\"loosing\",\"motivated\",\"toothache\",\"technology\",\"ship\",\"worry\",\"bags\",\"different\",\"pas\",\"jesse\",\"etc\",\"media\",\"thinkin\",\"nighter\",\"tour\",\"same\",\"trip\",\"shifts\",\"followers\",\"manila\",\"stepped\",\"adelaide\",\"retweeting\",\"it's\",\"cramming\",\"berry\",\"status\",\"fyi\",\"finish\",\"singapore\",\"nest\",\"deadline\",\"driver\",\"vista\",\"weed\",\"cheers\",\"running\",\"fruit\",\"woulda\",\"changing\",\"weep\",\"totally\",\"swallow\",\"mentally\",\"we've\",\"drain\",\"theater\",\"insomniac\",\"hour\",\"charger\",\"coursework\",\"floor\",\"roommate\",\"nothin\",\"without\",\"comes\",\"bottle\",\"trains\",\"model\",\"hubby\",\"you've\",\"taxi\",\"summer\",\"outdoor\",\"being\",\"nd\",\"shock\",\"rest\",\"oxford\",\"pissing\",\"hehehe\",\"kill\",\"file\",\"touch\",\"ps3\",\"he'll\",\"reality\",\"speed\",\"halfway\",\"blow\",\"death\",\"asthma\",\"grounded\",\"application\",\"thinking\",\"rose\",\"everyone's\",\"seems\",\"except\",\"desktop\",\"blog\",\"color\",\"lets\",\"interested\",\"9:30\",\"bank\",\"plenty\",\"reach\",\"theyre\",\"ca\",\"naw\",\"swim\",\"starving\",\"jake\",\"fucked\",\"around\",\"kills\",\"stinking\",\"read\",\"jeans\",\"delhi\",\"mow\",\"fridge\",\"gonna\",\"amy\",\"traffic\",\"pop\",\"listening\",\"world\",\"walk\",\"disappointed\",\"dare\",\"furniture\",\"apple\",\"pounds\",\"smell\",\"hotel\",\"twittered\",\"fishing\",\"server\",\"blackberry\",\"fully\",\"tower\",\"revision\",\"trying\",\"eventually\",\"nauseous\",\"learning\",\"moving\",\"competition\",\"chuck\",\"japanese\",\"naps\",\"dragging\",\"goin\",\"table\",\"images\",\"playin\",\"snoring\",\"thinks\",\"ahhhhhh\",\"gross\",\"mood\",\"windows\",\"memories\",\"tube\",\"gutted\",\"recorded\",\"legal\",\"moon\",\"bedtime\",\"exit\",\"boat\",\"23rd\",\"aussie\",\"remind\",\"50\",\"doggy\",\"o2\",\"cramps\",\"felt\",\"power\",\"quit\",\"seconds\",\"papa\",\"nails\",\"booooo\",\"day\",\"broken\",\"hectic\",\"terrified\",\";)\",\"exciting\",\"throw\",\"_\",\"on\",\"jeez\",\"choc\",\"central\",\"speech\",\"ace\",\"oh\",\"ack\",\"island\",\"industry\",\"fringe\",\"oc\",\"drag\",\"side\",\"pregnant\",\"fell\",\"trailer\",\"oy\",\"act\",\"ow\",\"where\",\"ot\",\"backup\",\"or\",\"road\",\"op\",\"amber\",\"outlook\",\"2nite\",\"burning\",\"bbc\",\"image\",\"tweetie\",\"yourself\",\"cursed\",\"freaked\",\"odd\",\"accounts\",\"inbox\",\"homeless\",\"parties\",\"youu\",\"your\",\"restless\",\"how's\",\"prepare\",\"hes\",\"there\",\"hey\",\"lol\",\"dreaming\",\"start\",\"how'd\",\"drank\",\"mondays\",\"low\",\"stars\",\"4:30\",\"valley\",\"bubble\",\"energy\",\"ehh\",\"allergic\",\"shower\",\"mornings\",\"complete\",\"awwwwww\",\"delayed\",\"idea\",\"gardening\",\"jus\",\"survived\",\"e\",\"podcast\",\"with\",\"buying\",\"happening\",\"they're\",\"rush\",\"october\",\"celebrating\",\"wasn't\",\"david's\",\"practically\",\"spamming\",\"strawberry\",\"sadness\",\"tonite\",\"dirty\",\"grass\",\"advantage\",\"agree\",\"expect\",\"gone\",\"ac\",\"taylor\",\"ohh\",\"ad\",\"videos\",\"cinema\",\"ai\",\"ah\",\"describe\",\"am\",\"al\",\"deep\",\"an\",\"knowww\",\"as\",\"liverpool\",\"tasty\",\"at\",\"aw\",\"ay\",\"watched\",\"az\",\"portland\",\"film\",\"cream\",\"again\",\"hasnt\",\"yoga\",\"noise\",\"idiot\",\"deserve\",\"drivers\",\"storage\",\"graduate\",\"field\",\"housework\",\"5\",\"someones\",\"friggin\",\"you\",\"puppy\",\"coughing\",\"karma\",\"poor\",\"poop\",\"championship\",\"tireddd\",\"obsessed\",\"students\",\"spoilers\",\"finale\",\"m\",\"important\",\"coverage\",\"nkotb\",\"chris\",\"crappy\",\"sneeze\",\"finals\",\"pool\",\"alcohol\",\"building\",\"tiger\",\"carbs\",\"remote\",\"calls\",\"wife\",\"sicky\",\"wifi\",\"sharks\",\"barcelona\",\"sounded\",\"passed\",\"u\",\"adam\",\"twitterberry\",\"alright\",\"noooooooo\",\"starting\",\"original\",\"neighbors\",\"all\",\"since\",\"consider\",\"chinese\",\"v\",\"caused\",\"allergy\",\"dollar\",\"abit\",\"month\",\"disc\",\"tours\",\"mp3\",\"smoking\",\"dish\",\"follow\",\"disk\",\"pjs\",\"brunch\",\"emily\",\"shattered\",\"apartment\",\"snif\",\"tx\",\"imma\",\"switched\",\"tr\",\"acting\",\"thursday\",\"laughing\",\"to\",\"aaron\",\"program\",\"spain\",\"th\",\"ti\",\"smile\",\"enjoying\",\"presentation\",\"celebs\",\"ta\",\"weeks\",\"sound\",\"woman\",\"appointment\",\"nite\",\"sitting\",\"very\",\"horror\",\"puffy\",\"fav\",\"saved\",\"results\",\"chores\",\"worst\",\"won't\",\"decide\",\"fall\",\"awful\",\"sony\",\"ticket\",\"difference\",\"offline\",\"`\",\"heaven\",\"washing\",\"cable\",\"mothers\",\"louis\",\"celebrity\",\"list\",\"joined\",\"large\",\"sang\",\"sand\",\"harry\",\"small\",\"lisa\",\"throbbing\",\"->\",\"20th\",\"teh\",\"open\",\"cookies\",\"charlie\",\"rats\",\"ten\",\"tea\",\"sync\",\"unable\",\"past\",\"19\",\"zero\",\"design\",\"pass\",\"nbc\",\"turning\",\"nba\",\"returned\",\"dissertation\",\"what\",\"strep\",\"stood\",\"clock\",\"z\",\"sun\",\"wrecked\",\"womp\",\"crush\",\"grown\",\"version\",\"sooooooo\",\"issues\",\"destroyed\",\"learned\",\"racing\",\"public\",\"everybody\",\"sux\",\"tattoos\",\"full\",\"christian\",\"hungover\",\"twitterville\",\"21st\",\"answers\",\"forgive\",\"hours\",\"jonas\",\"situation\",\"strong\",\"uploading\",\"pleasant\",\"search\",\"ridiculous\",\"ahead\",\"tomoro\",\"logged\",\"experience\",\"pics\",\"airport\",\"arent\",\"within\",\"pick\",\"action\",\"cookie\",\"sunburned\",\"options\",\"trainer\",\"archie\",\"via\",\"followed\",\"ours\",\"thankfully\",\"va\",\"suddenly\",\"crank\",\"donnie\",\"africa\",\"disgusting\",\"tiny\",\"put\",\"follower\",\"indoors\",\"contemplating\",\"hooked\",\"nathan\",\"sister's\",\"gosh\",\"career\",\"eye\",\"takes\",\"show\",\"intense\",\"donuts\",\"alcoholic\",\"texting\",\"two\",\"shite\",\"damaged\",\"pearl\",\"vip\",\"morn\",\"gorgeous\",\"taken\",\"injury\",\"minor\",\"more\",\"horses\",\"flat\",\"door\",\"knows\",\"company\",\"plant\",\"excuse\",\"landed\",\"ain't\",\"basically\",\"broke\",\"particular\",\"boredd\",\"hurry\",\"karaoke\",\"glad\",\"town\",\"grill\",\"keeping\",\"sucky\",\"canceled\",\"science\",\"pocket\",\"sucks\",\"installing\",\"routine\",\"mall\",\"nine\",\"heaps\",\"learn\",\"knocked\",\"male\",\"def\",\"history\",\"beautiful\",\"f1\",\"computers\",\"heh\",\"neglected\",\"accept\",\"states\",\"heels\",\"rise\",\"numbers\",\"sense\",\"sharp\",\"pong\",\"dress\",\"ughhhh\",\"/\",\"!\",\"huge\",\"stil\",\"beef\",\"xxxx\",\"goal\",\"drained\",\"terribly\",\"rather\",\"plans\",\"breaking\",\"thumbs\",\"stayed\",\"everyday\",\"unlucky\",\"loving\",\"ish\",\"hugs\",\"sandwiches\",\"css\",\"either\",\"fr\",\"sandwich\",\"okay\",\"fu\",\"rude\",\"advice\",\"tesco\",\"upload\",\"fa\",\"fb\",\"justin\",\"blood\",\"coming\",\"backyard\",\". . .\",\"fl\",\"fm\",\"comp\",\"fo\",\"a\",\"refuse\",\"short\",\"susan\",\"coat\",\"doctor\",\"overnight\",\"anytime\",\"slacking\",\"perhaps\",\"eating\",\"vegas\",\"hatton\",\"scaring\",\"pay\",\"pleasure\",\"dream\",\"playing\",\"shitty\",\"replied\",\"photoshop\",\"mexican\",\"help\",\"conversation\",\"don't\",\"september\",\"bowl\",\"flowers\",\"kitten\",\"ffs\",\"mission\",\"installed\",\"held\",\"isnt\",\"paper\",\"scott\",\"replies\",\"hell\",\"mcdonalds\",\"its\",\"bummed\",\"messed\",\"26\",\"27\",\"pens\",\"21\",\"22\",\"23\",\"pray\",\":p\",\"thnx\",\"sale\",\"28\",\"wrk\",\"actually\",\"symptoms\",\"strange\",\"ruining\",\"bummer\",\"stephen\",\"cross\",\"bout\",\"cutie\",\"sauce\",\"haven't\",\"fool\",\"hurting\",\"skipped\",\"somebody\",\"sucking\",\"yo\",\"drama\",\"food\",\"sucker\",\"uhm\",\"uhh\",\"cupcake\",\"walls\",\"vomit\",\"starbucks\",\"weeds\",\"foot\",\"doing\",\"yr\",\"yu\",\"struggling\",\"bigger\",\"sucked\",\"4pm\",\"desperately\",\"gets\",\"everytime\",\"sundays\",\"always\",\"level\",\"normally\",\"events\",\"bless\",\"did\",\"someone\",\"stopped\",\"ooops\",\"1am\",\"found\",\"mouse\",\"difficult\",\"friendship\",\"marry\",\"isn't\",\"heavy\",\"week\",\"everyone\",\"england\",\"upstairs\",\"weight\",\"peeps\",\"fish\",\"hard\",\"toooooo\",\"him\",\"accidentally\",\"oil\",\"cloudy\",\"latte\",\"operation\",\"beyond\",\"insurance\",\"standard\",\":\\\\\",\"lovers\",\"prolly\",\"psychology\",\"ftw\",\"item\",\"robert\",\"sickness\",\"research\",\"wolverine\",\"misses\",\"health\",\"hill\",\"they'll\",\"premiere\",\"print\",\"lolz\",\"darling\",\"issue\",\"highway\",\"ass\",\"beers\",\"definately\",\"bass\",\"pathetic\",\"norwich\",\"timeline\",\"friday\",\"horse\",\"pub\",\"bulls\",\"mmm\",\"reason\",\"toy\",\"3hrs\",\"disneyland\",\"members\",\"imagine\",\"maths\",\"teach\",\"ash\",\"beginning\",\"loads\",\"guest\",\"blister\",\"owners\",\"poem\",\"thread\",\"launch\",\"brown\",\"needing\",\"terrible\",\"cheering\",\"american\",\"jelly\",\"expecting\",\"yall\",\"w\",\"daisy\",\"scheduled\",\"castle\",\"dis\",\"fallen\",\"feed\",\"flood\",\"major\",\"dont\",\"slipped\",\"feel\",\"mummy\",\"number\",\"welcome\",\"twisted\",\"feet\",\"dust\",\"talked\",\"done\",\"least\",\"climbing\",\"ironing\",\"cups\",\"miss\",\"ikea\",\"regret\",\"passes\",\"story\",\"\\\"\",\"heads\",\"temperature\",\"jet\",\"script\",\"5th\",\"bay\",\"shooting\",\"comfy\",\"phil\",\"player\",\"paint\",\"station\",\"storm\",\"sigh\",\"mama\",\"essays\",\"jen\",\"banana\",\"store\",\"too\",\"mini\",\"selling\",\"pains\",\"relationship\",\"trapped\",\"cats\",\"jamie\",\"park\",\"plane\",\"tivo\",\"sam\",\"luckily\",\"part\",\"jordan\",\"boredom\",\"worrying\",\"doctors\",\"rain\",\"off\",\"believe\",\"stairs\",\"obama\",\"king\",\"kind\",\"grew\",\"dam\",\"tooth\",\"condolences\",\"gotten\",\"mcfly\",\"grey\",\"recording\",\"tummy\",\"supposed\",\"dang\",\"dane\",\"toe\",\"charlotte\",\"motivation\",\"nooo\",\"uncomfortable\",\"wasnt\",\"seth\",\"tacos\",\"reunion\",\"ages\",\"remembered\",\"recital\",\"randomly\",\"juice\",\"mon\",\"muscles\",\"1:00\",\"showers\",\"cleaned\",\"inspiration\",\"orders\",\"option\",\"sell\",\"lie\",\"nights\",\"built\",\"dancing\",\"lil\",\"logies\",\"self\",\"scotland\",\"forget\",\"couch\",\"lit\",\"also\",\"costs\",\"square\",\"useless\",\"yeahh\",\"finding\",\"anxiety\",\"cavs\",\"eff\",\"youre\",\"waitin\",\"slow\",\"play\",\"towards\",\"electric\",\"quote\",\"eggs\",\"2008\",\"5am\",\"jst\",\"yawn\",\"virus\",\"thank\",\"plan\",\"eaten\",\"70\",\"services\",\"alpha\",\"huhu\",\"grumpy\",\"wats\",\"kc\",\"mmmm\",\"muscle\",\"devastated\",\"mobile\",\"doggie\",\"clear\",\"sometimes\",\"cover\",\"dentist\",\"10am\",\"pic\",\"clean\",\"(:\",\"usual\",\"physics\",\"attacking\",\"lying\",\"hahah\",\"itouch\",\"thomas\",\"ugh\",\"golf\",\"somewhat\",\"gold\",\"666\",\"fancy\",\"grandmas\",\"celebrities\",\"booze\",\"session\",\"stalker\",\"tuesdays\",\"find\",\"faces\",\"richmond\",\"giant\",\"bff\",\"paranoid\",\"nervous\",\"ruin\",\"less\",\"waiting\",\"unhappy\",\"penalty\",\"failed\",\"flights\",\"wayne\",\"pretty\",\"money\",\"8\",\"circle\",\"apprentice\",\"control\",\"mom's\",\"hip\",\"boarding\",\"his\",\"hit\",\"tommorow\",\"luke\",\"banned\",\"express\",\"sunny\",\"grocery\",\"trees\",\"archuleta\",\"they'd\",\"feels\",\"b\",\"preparing\",\"reply\",\"damnit\",\"emails\",\"restart\",\"target\",\"mistake\",\"frickin\",\"cry\",\"clinic\",\"remove\",\"ahhhhh\",\"weds\",\"common\",\"withdrawal\",\"naughty\",\"x\",\"river\",\"wrote\",\"bamboozle\",\"insane\",\"bars\",\"set\",\"art\",\"throwing\",\":'(\",\"jade\",\"buggered\",\"sex\",\"tip\",\"see\",\"sec\",\"are\",\"sea\",\"arg\",\"close\",\"retweet\",\"2.5\",\"lee\",\"twittering\",\"practice\",\"horrid\",\"bride\",\"wkend\",\"pictures\",\"wow\",\"exchange\",\"please\",\"demons\",\"heading\",\"woo\",\"won\",\"happiness\",\"sinuses\",\"woe\",\"probably\",\"burned\",\"weekly\",\"nope\",\"monsters\",\"15th\",\"piss\",\"available\",\"solo\",\"korea\",\"recently\",\"creating\",\"do\",\"missing\",\"keyboard\",\"coulda\",\"sold\",\"attention\",\"bak\",\"incident\",\"response\",\"interface\",\"pissed\",\"league\",\"c\",\"last\",\"dangit\",\"license\",\"restaurant\",\"thou\",\"wouldn't\",\"barely\",\"event\",\"connection\",\"became\",\"goodmorning\",\"8am\",\"alot\",\"retarded\",\"mean\",\"whole\",\"finds\",\"sink\",\"load\",\"liked\",\"):\",\"words\",\"bell\",\"battery\",\"sweet\",\"ubuntu\",\"dudes\",\"rofl\",\"doc\",\"alone\",\"simply\",\"likes\",\"church\",\"outta\",\"bench\",\"crispy\",\"along\",\"expensive\",\"headaches\",\"duh\",\"ps\",\"finally\",\"devil\",\"arsenal\",\"raise\",\"dun\",\"monthly\",\"create\",\"due\",\"mikey\",\"appears\",\"hitting\",\"pc\",\"secret\",\"pa\",\"damn\",\"maintenance\",\"damm\",\"pile\",\"ph\",\"meeting\",\"whoa\",\"empty\",\"4\",\"resting\",\"lived\",\"flight\",\"gay\",\"boy\",\"fire\",\"what's\",\"wet\",\"gas\",\"imac\",\"else\",\"whatever\",\"races\",\"awake\",\"demand\",\"prices\",\"2moz\",\"rocking\",\"wood\",\"funk\",\"x-men\",\"georgia\",\"look\",\"raw\",\"frozen\",\"straight\",\"bill\",\"ahah\",\"budget\",\"33\",\"while\",\"accidently\",\"homework\",\"error\",\"fun\",\"ross\",\"biking\",\"guide\",\"2night\",\"pack\",\"real\",\"30\",\"<3\",\"rip\",\"ducks\",\"disappointing\",\"realised\",\"fat\",\"reports\",\"skype\",\"ready\",\"rid\",\"kings\",\"seem\",\"chase\",\"funny\",\"mins\",\"italy\",\"shirt\",\"anymore\",\"noooo\",\"migraine\",\"philly\",\"belong\",\"checking\",\"delicious\",\"grand\",\"9\",\"dunno\",\"ray\",\"eww\",\"receive\",\"higher\",\"development\",\"distracted\",\"used\",\"temporary\",\"fatty\",\"hopes\",\"mountain\",\"flooded\",\"assignment\",\"leopard\",\"yesterday\",\"holidays\",\"moment\",\"levels\",\"uses\",\"user\",\"attractive\",\"weird\",\"wheres\",\"recent\",\"kno\",\"lower\",\"task\",\"older\",\"rules\",\"dad's\",\"cheek\",\"spent\",\"analysis\",\"obviously\",\"regretting\",\"cheer\",\"flags\",\"yuck\",\"nighty\",\"y\",\"knw\",\"chemistry\",\"dark\",\"spend\",\"darn\",\"sims\",\"things\",\"crib\",\"mom\",\"watchin\",\"shape\",\"questions\",\"mysql\",\"gona\",\"praying\",\"prince\",\"procrastinating\",\"gt\",\"cut\",\"cus\",\"$\",\"cup\",\"tim\",\"lady\",\"queen\",\"danger\",\"cuz\",\"havin\",\"cud\",\"parents\",\"location\",\"sydney\",\"snap\",\"lip\",\"mavs\",\"easter\",\"excited\",\"hates\",\"build\",\"ridiculously\",\"...\",\"customers\",\"australia\",\"march\",\"emergency\",\"format\",\"dvds\",\"showing\",\"laughed\",\"tiring\",\"lovin\",\"matters\",\"suffering\",\"kasi\",\"private\",\"bit\",\"seattle\",\"wings\",\"projects\",\"knock\",\"mornin\",\"sorting\",\"success\",\"semi\",\"wiv\",\"rides\",\"signal\",\"ignore\",\"continue\",\"eek\",\"popular\",\"healthy\",\"google\",\"partying\",\"saturdays\",\"absolutely\",\"goddamn\",\"fake\",\"unloved\",\"back\",\"phone\",\"b4\",\"streaming\",\"lips\",\"3.5\",\"palm\",\"loser\",\"sight\",\"mirror\",\"weekend's\",\"curious\",\"editing\",\"wishin\",\"pale\",\"delivered\",\"contacts\",\"pet\",\"scrubs\",\"decision\",\"shall\",\"per\",\"thrilled\",\"pounding\",\"(\",\"pee\",\"anne\",\"dating\",\"prob\",\"nose\",\"be\",\"bf\",\"replaced\",\"run\",\"ba\",\"bb\",\"bc\",\"rub\",\"word\",\"martin\",\"laker\",\"use\",\"bk\",\"zombie\",\"step\",\"nowhere\",\"santa\",\"chick\",\"from\",\"by\",\"aswell\",\"usb\",\"shine\",\"faith\",\"wouldnt\",\"most\",\"lord\",\"75\",\"graduation\",\"melbourne\",\"range\",\"regular\",\"beans\",\"idk\",\"illegal\",\"mouth\",\"replacement\",\"shiny\",\"daisies\",\"silence\",\"ppl\",\"seeing\",\"david\",\"jimmy\",\"colorado\",\"dude\",\"into\",\"kat\",\"servers\",\"nothing\",\"momma\",\";p\",\"seasons\",\"lesson\",\"france\",\"rolls\",\"smells\",\"katie\",\"impressed\",\"sonny\",\"span\",\"..\",\"spam\",\"spending\",\"extremely\",\"ache\",\"question\",\"long\",\"semester\",\"doubt\",\"infected\",\"we're\",\"suit\",\"forward\",\"translate\",\"scared\",\"files\",\"mountains\",\"himself\",\"invite\",\"inches\",\"downstairs\",\"poster\",\"registered\",\"memory\",\"toooo\",\"girlfriends\",\"hoped\",\"t-shirt\",\"boys\",\"properly\",\"link\",\"pacific\",\"3am\",\"russian\",\"don\",\"line\",\"dull\",\"posted\",\"info\",\"tumblr\",\"entry\",\"utd\",\"sounds\",\"fries\",\"hasn't\",\"us\",\"stalking\",\"planet\",\"tomorrow's\",\"un\",\"uh\",\"uk\",\"sum\",\"fried\",\"similar\",\"alarm\",\"yelled\",\"uber\",\"kh\",\"ordered\",\"stick\",\"ko\",\";d\",\"danny\",\"blahh\",\"cure\",\"evening\",\"stops\",\"chat\",\"curl\",\"cafe\",\"rained\",\"facebook\",\"rainbow\",\"rainy\",\"6th\",\"lemon\",\"calm\",\"rains\",\"fixing\",\"nah\",\"peace\",\"stuffy\",\"nick\",\"nap\",\"definitely\",\"ellen\",\"nat\",\"tech\",\"nice\",\"pills\",\"draw\",\"favourite\",\"missin\",\"problems\",\"kirk\",\"prepared\",\"helping\",\"meaning\",\"utterly\",\"posters\",\"song\",\"clue\",\"lang\",\"lane\",\"land\",\"happier\",\"yess\",\"agh\",\"dvd\",\"age\",\"esp\",\"youtube\",\"walked\",\"annoyed\",\"cooked\",\"hella\",\"dot\",\"oracle\",\"she's\",\"leaked\",\"2009\",\"having\",\"dvr\",\"essay\",\"code\",\"jason\",\"rubbish\",\"gp\",\"scratch\",\"wide\",\"tweeter\",\"ds\",\"gg\",\"gf\",\"windy\",\"gd\",\"doug\",\"ga\",\"freakin\",\"go\",\"gossip\",\"twitter\",\"tweeted\",\"chillin\",\"kate\",\"gi\",\"seemed\",\"gokey\",\"peanut\",\"concerned\",\"shanghai\",\"young\",\"send\",\"does\",\"helps\",\"isplayer\",\"dislike\",\"include\",\"friendly\",\"sent\",\"uploaded\",\"family\",\"breathing\",\"wished\",\"garden\",\"torture\",\"outside\",\"continues\",\"kitty\",\"genius\",\"wave\",\"heard\",\"spoon\",\"wishes\",\"putting\",\"telling\",\"drinking\",\"ending\",\"entire\",\"magic\",\"britney\",\"stiff\",\"knight\",\"fml\",\"f\",\"michael\",\"eve\",\"ryan\",\"try\",\"assignments\",\"race\",\"week's\",\"congrats\",\"youuu\",\"radio\",\"havent\",\"deleting\",\"14\",\"puke\",\"joey\",\"someday\",\"failing\",\"smaller\",\"you'd\",\"bleeding\",\"cds\",\"ripped\",\"boots\",\"waking\",\"jump\",\"blowing\",\"video\",\"traveling\",\"picked\",\"miley\",\"ummm\",\"twitters\",\"click\",\"depression\",\"graduating\",\"sausage\",\"cupcakes\",\"business\",\"junior\",\"kris\",\"giving\",\"fine\",\"schedule\",\"feedback\",\"vampire\",\"enjoyed\",\"access\",\"paying\",\"rotten\",\"indian\",\"twins\",\"<---\",\"theres\",\"crying\",\";\",\"3g\",\"bird\",\"exercise\",\"3d\",\"body\",\"toast\",\"nigga\",\"chose\",\"degree\",\"leg\",\"upsetting\",\"got\",\"pushing\",\"commercial\",\"punch\",\"asap\",\"highly\",\"growing\",\"packing\",\"tweeters\",\"let\",\"healing\",\"cab\",\"sexy\",\"irritating\",\"extreme\",\"great\",\"talent\",\"skool\",\"metro\",\"technical\",\"32\",\"31\",\"casino\",\"35\",\"leaving\",\"engine\",\"tires\",\"weren't\",\"derby\",\"{\",\"makes\",\"maker\",\"thats\",\"wif\",\"named\",\"firefox\",\"drums\",\"heart\",\"crashing\",\"win\",\"app\",\"manage\",\"apt\",\"order\",\"snapped\",\"api\",\"blah\",\"names\",\"duck\",\"wil\",\"apply\",\"singing\",\"cloud\",\"italian\",\"standing\",\"fed\",\";(\",\"lottery\",\"thirsty\",\"usa\",\"&\",\"chi\",\"exhausted\",\"next\",\"laying\",\"worn\",\"camera\",\"d\",\"themselves\",\"hiding\",\"awesome\",\"sort\",\"popped\",\"babe\",\"1/2\",\"started\",\"calling\",\"freedom\",\"about\",\"infection\",\"confused\",\"sore\",\"soooooooo\",\"ol\",\"ashamed\",\"baby\",\"4am\",\"pieces\",\"had\",\"customer\",\"tad\",\"account\",\"balls\",\"animals\",\"oi\",\"salad\",\"midterm\",\"meee\",\"challenge\",\"getting\",\"ram\",\"recession\",\"creepy\",\"wii\",\"anywhere\",\"crossed\",\"of\",\"meet\",\"closing\",\"drops\",\"didnt\",\"unpacking\",\"point\",\"bittersweet\",\"waaaay\",\"plate\",\"process\",\"lock\",\"pad\",\"tax\",\"they've\",\"high\",\"dm\",\"pulling\",\"something\",\"bones\",\"sunglasses\",\"tan\",\"twitpic\",\"sis\",\"sir\",\"united\",\"syndrome\",\"noises\",\"holds\",\"delay\",\"brian\",\"animal\",\"instead\",\"comedy\",\"panic\",\"oz\",\"profile\",\"blocks\",\"neighbor\",\"attend\",\"easily\",\"watch\",\"collection\",\"bothered\",\"mixed\",\"notebook\",\"wrist\",\"taco\",\"hahahaha\",\"coast\",\"tomato\",\"somethin\",\"realized\",\"sry\",\"until\",\"famous\",\"os\",\"sit\",\"lines\",\"9am\",\"honestly\",\"rove\",\"necklace\",\"addiction\",\"software\",\"procrastination\",\"houston\",\"six\",\"piece\",\"wit\",\"despite\",\"ladies\",\"whilst\",\"including\",\"looks\",\"quake\",\"during\",\"mentioned\",\"bunch\",\"perfect\",\"1\",\"le\"],\"x\":{\"__ndarray__\":\"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\",\"dtype\":\"float32\",\"shape\":[4000]},\"y\":{\"__ndarray__\":\"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\",\"dtype\":\"float32\",\"shape\":[4000]}},\"selected\":{\"id\":\"c15e1510-1b1c-4a25-a4f2-7d6c6dfe1b5c\",\"type\":\"Selection\"},\"selection_policy\":{\"id\":\"40faaf41-7d2b-44f9-b801-7890c0886cba\",\"type\":\"UnionRenderers\"}},\"id\":\"dae9ddcc-869f-48f1-b184-9d7d6a62faa5\",\"type\":\"ColumnDataSource\"},{\"attributes\":{\"bottom_units\":\"screen\",\"fill_alpha\":{\"value\":0.5},\"fill_color\":{\"value\":\"lightgrey\"},\"left_units\":\"screen\",\"level\":\"overlay\",\"line_alpha\":{\"value\":1.0},\"line_color\":{\"value\":\"black\"},\"line_dash\":[4,4],\"line_width\":{\"value\":2},\"plot\":null,\"render_mode\":\"css\",\"right_units\":\"screen\",\"top_units\":\"screen\"},\"id\":\"23c07846-d0e9-434c-a59d-0282e62e5f3c\",\"type\":\"BoxAnnotation\"},{\"attributes\":{},\"id\":\"c15e1510-1b1c-4a25-a4f2-7d6c6dfe1b5c\",\"type\":\"Selection\"},{\"attributes\":{\"data_source\":{\"id\":\"dae9ddcc-869f-48f1-b184-9d7d6a62faa5\",\"type\":\"ColumnDataSource\"},\"glyph\":{\"id\":\"490438ed-3f77-4a38-b300-7d809f16f311\",\"type\":\"Circle\"},\"hover_glyph\":null,\"muted_glyph\":null,\"nonselection_glyph\":{\"id\":\"1ef12d51-3f3d-4857-bcba-0132f311012c\",\"type\":\"Circle\"},\"selection_glyph\":null,\"view\":{\"id\":\"2c3c2f43-c447-4667-abc2-19f25cecbab3\",\"type\":\"CDSView\"}},\"id\":\"fab14061-ff70-460b-9067-f77b64153019\",\"type\":\"GlyphRenderer\"},{\"attributes\":{},\"id\":\"40faaf41-7d2b-44f9-b801-7890c0886cba\",\"type\":\"UnionRenderers\"},{\"attributes\":{},\"id\":\"4c5e9373-2e4e-4ba2-bc00-fa5ef0e250fc\",\"type\":\"ResetTool\"},{\"attributes\":{\"plot\":null,\"text\":\"A map of 10000 word vectors\"},\"id\":\"0fee04a6-c4a0-49e5-b3eb-2c7b9babb1e3\",\"type\":\"Title\"},{\"attributes\":{\"source\":{\"id\":\"dae9ddcc-869f-48f1-b184-9d7d6a62faa5\",\"type\":\"ColumnDataSource\"}},\"id\":\"2c3c2f43-c447-4667-abc2-19f25cecbab3\",\"type\":\"CDSView\"},{\"attributes\":{},\"id\":\"2319f974-1beb-4907-b8c1-9d3fbf3822c0\",\"type\":\"LinearScale\"},{\"attributes\":{\"callback\":null},\"id\":\"0c953eee-7353-487d-8805-24ce940eed5d\",\"type\":\"DataRange1d\"},{\"attributes\":{\"fill_color\":{\"value\":\"#1f77b4\"},\"line_color\":{\"value\":\"#1f77b4\"},\"x\":{\"field\":\"x\"},\"y\":{\"field\":\"y\"}},\"id\":\"490438ed-3f77-4a38-b300-7d809f16f311\",\"type\":\"Circle\"},{\"attributes\":{},\"id\":\"5c2c21b1-eadd-4cb9-b1b2-956e185e1dd2\",\"type\":\"PanTool\"},{\"attributes\":{\"fill_alpha\":{\"value\":0.1},\"fill_color\":{\"value\":\"#1f77b4\"},\"line_alpha\":{\"value\":0.1},\"line_color\":{\"value\":\"#1f77b4\"},\"x\":{\"field\":\"x\"},\"y\":{\"field\":\"y\"}},\"id\":\"1ef12d51-3f3d-4857-bcba-0132f311012c\",\"type\":\"Circle\"},{\"attributes\":{\"min_border\":1,\"plot_width\":700,\"renderers\":[{\"id\":\"23c07846-d0e9-434c-a59d-0282e62e5f3c\",\"type\":\"BoxAnnotation\"},{\"id\":\"fab14061-ff70-460b-9067-f77b64153019\",\"type\":\"GlyphRenderer\"}],\"title\":{\"id\":\"0fee04a6-c4a0-49e5-b3eb-2c7b9babb1e3\",\"type\":\"Title\"},\"toolbar\":{\"id\":\"3e713818-c2de-478d-ae4c-8f5fc1617a4c\",\"type\":\"Toolbar\"},\"x_range\":{\"id\":\"0c953eee-7353-487d-8805-24ce940eed5d\",\"type\":\"DataRange1d\"},\"x_scale\":{\"id\":\"d49ce704-7945-4506-860d-2275b602a9ae\",\"type\":\"LinearScale\"},\"y_range\":{\"id\":\"30acaffc-cffe-44b0-acff-d7a5e1c64e76\",\"type\":\"DataRange1d\"},\"y_scale\":{\"id\":\"2319f974-1beb-4907-b8c1-9d3fbf3822c0\",\"type\":\"LinearScale\"}},\"id\":\"a3bf956f-2f65-4097-ac91-a55b291d2603\",\"subtype\":\"Figure\",\"type\":\"Plot\"},{\"attributes\":{\"overlay\":{\"id\":\"23c07846-d0e9-434c-a59d-0282e62e5f3c\",\"type\":\"BoxAnnotation\"}},\"id\":\"47a94cd0-71c7-4bbd-bc1a-aad61cbeb818\",\"type\":\"BoxZoomTool\"},{\"attributes\":{},\"id\":\"d49ce704-7945-4506-860d-2275b602a9ae\",\"type\":\"LinearScale\"},{\"attributes\":{},\"id\":\"3fab1e7f-b1d1-4151-b805-888a61541eb5\",\"type\":\"WheelZoomTool\"}],\"root_ids\":[\"a3bf956f-2f65-4097-ac91-a55b291d2603\"]},\"title\":\"Bokeh Application\",\"version\":\"0.13.0\"}};\n",
       "  var render_items = [{\"docid\":\"9178a74d-dcfb-45c5-84a3-0e43cfe3524c\",\"roots\":{\"a3bf956f-2f65-4097-ac91-a55b291d2603\":\"683efc8a-7d55-46f1-8eb4-964e0c94b5ad\"}}];\n",
       "  root.Bokeh.embed.embed_items_notebook(docs_json, render_items);\n",
       "\n",
       "  }\n",
       "  if (root.Bokeh !== undefined) {\n",
       "    embed_document(root);\n",
       "  } else {\n",
       "    var attempts = 0;\n",
       "    var timer = setInterval(function(root) {\n",
       "      if (root.Bokeh !== undefined) {\n",
       "        embed_document(root);\n",
       "        clearInterval(timer);\n",
       "      }\n",
       "      attempts++;\n",
       "      if (attempts > 100) {\n",
       "        console.log(\"Bokeh: ERROR: Unable to run BokehJS code because BokehJS library is missing\")\n",
       "        clearInterval(timer);\n",
       "      }\n",
       "    }, 10, root)\n",
       "  }\n",
       "})(window);"
      ],
      "application/vnd.bokehjs_exec.v0+json": ""
     },
     "metadata": {
      "application/vnd.bokehjs_exec.v0+json": {
       "id": "a3bf956f-2f65-4097-ac91-a55b291d2603"
      }
     },
     "output_type": "display_data"
    }
   ],
   "source": [
    "import bokeh.plotting as bp\n",
    "from bokeh.models import HoverTool, BoxSelectTool\n",
    "from bokeh.plotting import figure, show, output_notebook                #output_file\n",
    "\n",
    "# defining Chart\n",
    "output_notebook()\n",
    "plot_tfidf = bp.figure(plot_width=700, plot_height=600, title=\"A map of 10000 word vectors\",\n",
    "    tools=\"pan,wheel_zoom,box_zoom,reset,hover,previewsave\",\n",
    "    x_axis_type=None, y_axis_type=None, min_border=1)\n",
    "\n",
    "plot_tfidf.scatter(x='x', y='y', source=tsne_df)\n",
    "hover = plot_tfidf.select(dict(type=HoverTool))\n",
    "hover.tooltips={\"word\": \"@words\"}\n",
    "show(plot_tfidf)"
   ]
  },
  {
   "cell_type": "markdown",
   "metadata": {},
   "source": [
    "## Creating a single vector representing a whole tweet by using TF-idf"
   ]
  },
  {
   "cell_type": "code",
   "execution_count": 20,
   "metadata": {},
   "outputs": [],
   "source": [
    "vectorizer = TfidfVectorizer(analyzer=lambda x: x, min_df=10)\n",
    "vectorizer.fit_transform([x.words for x in x_train])\n",
    "tfidf = dict(zip(vectorizer.get_feature_names(), vectorizer.idf_))\n",
    "\n",
    "def buildWordVector(tokens, size):\n",
    "    vec = np.zeros(size).reshape((1, size))\n",
    "    count = 0.\n",
    "    for word in tokens:\n",
    "        try:\n",
    "            vec += tweet_w2v[word].reshape((1, size)) * tfidf[word]\n",
    "            count += 1.\n",
    "        except KeyError: # handling the case where the token is not\n",
    "                         # in the corpus. useful for testing.\n",
    "            continue\n",
    "    if count != 0:\n",
    "        vec /= count\n",
    "    return vec"
   ]
  },
  {
   "cell_type": "code",
   "execution_count": 21,
   "metadata": {},
   "outputs": [
    {
     "name": "stderr",
     "output_type": "stream",
     "text": [
      "  0%|          | 0/80000 [00:00<?, ?it/s]/home/kritika/anaconda2/envs/spark/lib/python2.7/site-packages/ipykernel/__main__.py:10: DeprecationWarning: Call to deprecated `__getitem__` (Method will be removed in 4.0.0, use self.wv.__getitem__() instead).\n",
      "100%|██████████| 80000/80000 [00:19<00:00, 4079.98it/s]\n",
      "100%|██████████| 20000/20000 [00:04<00:00, 4090.35it/s]\n"
     ]
    }
   ],
   "source": [
    "from sklearn.preprocessing import scale\n",
    "train_vecs_w2v = np.concatenate([buildWordVector(z, n_dim) for z in tqdm(map(lambda x: x.words, x_train))])\n",
    "train_vecs_w2v = scale(train_vecs_w2v)\n",
    "\n",
    "test_vecs_w2v = np.concatenate([buildWordVector(z, n_dim) for z in tqdm(map(lambda x: x.words, x_test))])\n",
    "test_vecs_w2v = scale(test_vecs_w2v)"
   ]
  },
  {
   "cell_type": "markdown",
   "metadata": {},
   "source": [
    "## Build a Sentiment Classifier using Keras simple Neural Network"
   ]
  },
  {
   "cell_type": "code",
   "execution_count": 22,
   "metadata": {},
   "outputs": [
    {
     "name": "stderr",
     "output_type": "stream",
     "text": [
      "Using TensorFlow backend.\n"
     ]
    },
    {
     "name": "stdout",
     "output_type": "stream",
     "text": [
      "Epoch 1/5\n",
      " - 4s - loss: 0.0238 - acc: 0.9945\n",
      "Epoch 2/5\n",
      " - 3s - loss: 2.1940e-04 - acc: 1.0000\n",
      "Epoch 3/5\n",
      " - 3s - loss: 4.1026e-05 - acc: 1.0000\n",
      "Epoch 4/5\n",
      " - 3s - loss: 9.5823e-06 - acc: 1.0000\n",
      "Epoch 5/5\n",
      " - 3s - loss: 2.4225e-06 - acc: 1.0000\n",
      "Score:1.0\n"
     ]
    }
   ],
   "source": [
    "from keras.models import Sequential\n",
    "from keras.layers import Dense, Activation\n",
    "\n",
    "\n",
    "model = Sequential()\n",
    "model.add(Dense(32, activation='relu', input_dim=n_dim))\n",
    "model.add(Dense(1, activation='sigmoid'))\n",
    "model.compile(optimizer='adam',\n",
    "              loss='binary_crossentropy',\n",
    "              metrics=['accuracy'])\n",
    "\n",
    "\n",
    "model.fit(train_vecs_w2v, y_train, epochs=5, batch_size=32, verbose=2)\n",
    "score = model.evaluate(test_vecs_w2v, y_test, batch_size=128, verbose=2)\n",
    "print \"Score:\"+str(score[1])"
   ]
  },
  {
   "cell_type": "code",
   "execution_count": null,
   "metadata": {},
   "outputs": [],
   "source": []
  }
 ],
 "metadata": {
  "kernelspec": {
   "display_name": "Python [conda env:spark]",
   "language": "python",
   "name": "conda-env-spark-py"
  },
  "language_info": {
   "codemirror_mode": {
    "name": "ipython",
    "version": 2
   },
   "file_extension": ".py",
   "mimetype": "text/x-python",
   "name": "python",
   "nbconvert_exporter": "python",
   "pygments_lexer": "ipython2",
   "version": "2.7.15"
  }
 },
 "nbformat": 4,
 "nbformat_minor": 2
}
